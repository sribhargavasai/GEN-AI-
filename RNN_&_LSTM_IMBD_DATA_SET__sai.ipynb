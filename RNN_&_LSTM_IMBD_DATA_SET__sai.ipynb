{
  "nbformat": 4,
  "nbformat_minor": 0,
  "metadata": {
    "colab": {
      "provenance": [],
      "gpuType": "T4"
    },
    "kernelspec": {
      "name": "python3",
      "display_name": "Python 3"
    },
    "language_info": {
      "name": "python"
    },
    "accelerator": "GPU"
  },
  "cells": [
    {
      "cell_type": "code",
      "execution_count": null,
      "metadata": {
        "colab": {
          "base_uri": "https://localhost:8080/"
        },
        "id": "Q5nOzPzC4yne",
        "outputId": "cc8695ee-c114-43a6-e8c1-1010c9725287"
      },
      "outputs": [
        {
          "output_type": "stream",
          "name": "stderr",
          "text": [
            "[nltk_data] Downloading package punkt to /root/nltk_data...\n",
            "[nltk_data]   Unzipping tokenizers/punkt.zip.\n"
          ]
        },
        {
          "output_type": "execute_result",
          "data": {
            "text/plain": [
              "True"
            ]
          },
          "metadata": {},
          "execution_count": 1
        }
      ],
      "source": [
        "### Load all the required libraries/modules\n",
        "import os\n",
        "import pandas as pd\n",
        "import numpy as np\n",
        "\n",
        "##tensorflow modules\n",
        "from tensorflow.keras.preprocessing.text import Tokenizer\n",
        "from tensorflow.keras.layers import Embedding, Dense, SimpleRNN, LSTM, Dropout, BatchNormalization\n",
        "from tensorflow.keras.models import Sequential\n",
        "\n",
        "## text preprocessing modules\n",
        "from gensim.parsing.preprocessing import remove_stopwords\n",
        "from gensim.models import Word2Vec\n",
        "import re\n",
        "import nltk\n",
        "nltk.download('punkt')"
      ]
    },
    {
      "cell_type": "code",
      "source": [
        "### Load the data\n",
        "review_data=pd.read_csv(\"/content/IMDB_Dataset.csv\")"
      ],
      "metadata": {
        "id": "I3fIzbjl6pFt"
      },
      "execution_count": null,
      "outputs": []
    },
    {
      "cell_type": "code",
      "source": [
        "print(review_data)"
      ],
      "metadata": {
        "colab": {
          "base_uri": "https://localhost:8080/"
        },
        "id": "yo53UvQ2__Gm",
        "outputId": "28e1d46a-39f9-4321-f953-72bcef9fb938"
      },
      "execution_count": null,
      "outputs": [
        {
          "output_type": "stream",
          "name": "stdout",
          "text": [
            "                                                  review sentiment\n",
            "0      One of the other reviewers has mentioned that ...  positive\n",
            "1      A wonderful little production. <br /><br />The...  positive\n",
            "2      I thought this was a wonderful way to spend ti...  positive\n",
            "3      Basically there's a family where a little boy ...  negative\n",
            "4      Petter Mattei's \"Love in the Time of Money\" is...  positive\n",
            "...                                                  ...       ...\n",
            "49995  I thought this movie did a down right good job...  positive\n",
            "49996  Bad plot, bad dialogue, bad acting, idiotic di...  negative\n",
            "49997  I am a Catholic taught in parochial elementary...  negative\n",
            "49998  I'm going to have to disagree with the previou...  negative\n",
            "49999  No one expects the Star Trek movies to be high...  negative\n",
            "\n",
            "[50000 rows x 2 columns]\n"
          ]
        }
      ]
    },
    {
      "cell_type": "code",
      "source": [
        "review_data.head(3)"
      ],
      "metadata": {
        "colab": {
          "base_uri": "https://localhost:8080/",
          "height": 143
        },
        "id": "rfkru2Yb60kl",
        "outputId": "df1fc582-227f-4e01-e661-ddc2ac940217"
      },
      "execution_count": null,
      "outputs": [
        {
          "output_type": "execute_result",
          "data": {
            "text/plain": [
              "                                              review sentiment\n",
              "0  One of the other reviewers has mentioned that ...  positive\n",
              "1  A wonderful little production. <br /><br />The...  positive\n",
              "2  I thought this was a wonderful way to spend ti...  positive"
            ],
            "text/html": [
              "\n",
              "  <div id=\"df-c5a95d2c-6adb-4bb6-99dd-fcd8ef413a87\" class=\"colab-df-container\">\n",
              "    <div>\n",
              "<style scoped>\n",
              "    .dataframe tbody tr th:only-of-type {\n",
              "        vertical-align: middle;\n",
              "    }\n",
              "\n",
              "    .dataframe tbody tr th {\n",
              "        vertical-align: top;\n",
              "    }\n",
              "\n",
              "    .dataframe thead th {\n",
              "        text-align: right;\n",
              "    }\n",
              "</style>\n",
              "<table border=\"1\" class=\"dataframe\">\n",
              "  <thead>\n",
              "    <tr style=\"text-align: right;\">\n",
              "      <th></th>\n",
              "      <th>review</th>\n",
              "      <th>sentiment</th>\n",
              "    </tr>\n",
              "  </thead>\n",
              "  <tbody>\n",
              "    <tr>\n",
              "      <th>0</th>\n",
              "      <td>One of the other reviewers has mentioned that ...</td>\n",
              "      <td>positive</td>\n",
              "    </tr>\n",
              "    <tr>\n",
              "      <th>1</th>\n",
              "      <td>A wonderful little production. &lt;br /&gt;&lt;br /&gt;The...</td>\n",
              "      <td>positive</td>\n",
              "    </tr>\n",
              "    <tr>\n",
              "      <th>2</th>\n",
              "      <td>I thought this was a wonderful way to spend ti...</td>\n",
              "      <td>positive</td>\n",
              "    </tr>\n",
              "  </tbody>\n",
              "</table>\n",
              "</div>\n",
              "    <div class=\"colab-df-buttons\">\n",
              "\n",
              "  <div class=\"colab-df-container\">\n",
              "    <button class=\"colab-df-convert\" onclick=\"convertToInteractive('df-c5a95d2c-6adb-4bb6-99dd-fcd8ef413a87')\"\n",
              "            title=\"Convert this dataframe to an interactive table.\"\n",
              "            style=\"display:none;\">\n",
              "\n",
              "  <svg xmlns=\"http://www.w3.org/2000/svg\" height=\"24px\" viewBox=\"0 -960 960 960\">\n",
              "    <path d=\"M120-120v-720h720v720H120Zm60-500h600v-160H180v160Zm220 220h160v-160H400v160Zm0 220h160v-160H400v160ZM180-400h160v-160H180v160Zm440 0h160v-160H620v160ZM180-180h160v-160H180v160Zm440 0h160v-160H620v160Z\"/>\n",
              "  </svg>\n",
              "    </button>\n",
              "\n",
              "  <style>\n",
              "    .colab-df-container {\n",
              "      display:flex;\n",
              "      gap: 12px;\n",
              "    }\n",
              "\n",
              "    .colab-df-convert {\n",
              "      background-color: #E8F0FE;\n",
              "      border: none;\n",
              "      border-radius: 50%;\n",
              "      cursor: pointer;\n",
              "      display: none;\n",
              "      fill: #1967D2;\n",
              "      height: 32px;\n",
              "      padding: 0 0 0 0;\n",
              "      width: 32px;\n",
              "    }\n",
              "\n",
              "    .colab-df-convert:hover {\n",
              "      background-color: #E2EBFA;\n",
              "      box-shadow: 0px 1px 2px rgba(60, 64, 67, 0.3), 0px 1px 3px 1px rgba(60, 64, 67, 0.15);\n",
              "      fill: #174EA6;\n",
              "    }\n",
              "\n",
              "    .colab-df-buttons div {\n",
              "      margin-bottom: 4px;\n",
              "    }\n",
              "\n",
              "    [theme=dark] .colab-df-convert {\n",
              "      background-color: #3B4455;\n",
              "      fill: #D2E3FC;\n",
              "    }\n",
              "\n",
              "    [theme=dark] .colab-df-convert:hover {\n",
              "      background-color: #434B5C;\n",
              "      box-shadow: 0px 1px 3px 1px rgba(0, 0, 0, 0.15);\n",
              "      filter: drop-shadow(0px 1px 2px rgba(0, 0, 0, 0.3));\n",
              "      fill: #FFFFFF;\n",
              "    }\n",
              "  </style>\n",
              "\n",
              "    <script>\n",
              "      const buttonEl =\n",
              "        document.querySelector('#df-c5a95d2c-6adb-4bb6-99dd-fcd8ef413a87 button.colab-df-convert');\n",
              "      buttonEl.style.display =\n",
              "        google.colab.kernel.accessAllowed ? 'block' : 'none';\n",
              "\n",
              "      async function convertToInteractive(key) {\n",
              "        const element = document.querySelector('#df-c5a95d2c-6adb-4bb6-99dd-fcd8ef413a87');\n",
              "        const dataTable =\n",
              "          await google.colab.kernel.invokeFunction('convertToInteractive',\n",
              "                                                    [key], {});\n",
              "        if (!dataTable) return;\n",
              "\n",
              "        const docLinkHtml = 'Like what you see? Visit the ' +\n",
              "          '<a target=\"_blank\" href=https://colab.research.google.com/notebooks/data_table.ipynb>data table notebook</a>'\n",
              "          + ' to learn more about interactive tables.';\n",
              "        element.innerHTML = '';\n",
              "        dataTable['output_type'] = 'display_data';\n",
              "        await google.colab.output.renderOutput(dataTable, element);\n",
              "        const docLink = document.createElement('div');\n",
              "        docLink.innerHTML = docLinkHtml;\n",
              "        element.appendChild(docLink);\n",
              "      }\n",
              "    </script>\n",
              "  </div>\n",
              "\n",
              "\n",
              "<div id=\"df-a20a2953-dc29-4e44-9a1f-d4b9ebf7296c\">\n",
              "  <button class=\"colab-df-quickchart\" onclick=\"quickchart('df-a20a2953-dc29-4e44-9a1f-d4b9ebf7296c')\"\n",
              "            title=\"Suggest charts\"\n",
              "            style=\"display:none;\">\n",
              "\n",
              "<svg xmlns=\"http://www.w3.org/2000/svg\" height=\"24px\"viewBox=\"0 0 24 24\"\n",
              "     width=\"24px\">\n",
              "    <g>\n",
              "        <path d=\"M19 3H5c-1.1 0-2 .9-2 2v14c0 1.1.9 2 2 2h14c1.1 0 2-.9 2-2V5c0-1.1-.9-2-2-2zM9 17H7v-7h2v7zm4 0h-2V7h2v10zm4 0h-2v-4h2v4z\"/>\n",
              "    </g>\n",
              "</svg>\n",
              "  </button>\n",
              "\n",
              "<style>\n",
              "  .colab-df-quickchart {\n",
              "      --bg-color: #E8F0FE;\n",
              "      --fill-color: #1967D2;\n",
              "      --hover-bg-color: #E2EBFA;\n",
              "      --hover-fill-color: #174EA6;\n",
              "      --disabled-fill-color: #AAA;\n",
              "      --disabled-bg-color: #DDD;\n",
              "  }\n",
              "\n",
              "  [theme=dark] .colab-df-quickchart {\n",
              "      --bg-color: #3B4455;\n",
              "      --fill-color: #D2E3FC;\n",
              "      --hover-bg-color: #434B5C;\n",
              "      --hover-fill-color: #FFFFFF;\n",
              "      --disabled-bg-color: #3B4455;\n",
              "      --disabled-fill-color: #666;\n",
              "  }\n",
              "\n",
              "  .colab-df-quickchart {\n",
              "    background-color: var(--bg-color);\n",
              "    border: none;\n",
              "    border-radius: 50%;\n",
              "    cursor: pointer;\n",
              "    display: none;\n",
              "    fill: var(--fill-color);\n",
              "    height: 32px;\n",
              "    padding: 0;\n",
              "    width: 32px;\n",
              "  }\n",
              "\n",
              "  .colab-df-quickchart:hover {\n",
              "    background-color: var(--hover-bg-color);\n",
              "    box-shadow: 0 1px 2px rgba(60, 64, 67, 0.3), 0 1px 3px 1px rgba(60, 64, 67, 0.15);\n",
              "    fill: var(--button-hover-fill-color);\n",
              "  }\n",
              "\n",
              "  .colab-df-quickchart-complete:disabled,\n",
              "  .colab-df-quickchart-complete:disabled:hover {\n",
              "    background-color: var(--disabled-bg-color);\n",
              "    fill: var(--disabled-fill-color);\n",
              "    box-shadow: none;\n",
              "  }\n",
              "\n",
              "  .colab-df-spinner {\n",
              "    border: 2px solid var(--fill-color);\n",
              "    border-color: transparent;\n",
              "    border-bottom-color: var(--fill-color);\n",
              "    animation:\n",
              "      spin 1s steps(1) infinite;\n",
              "  }\n",
              "\n",
              "  @keyframes spin {\n",
              "    0% {\n",
              "      border-color: transparent;\n",
              "      border-bottom-color: var(--fill-color);\n",
              "      border-left-color: var(--fill-color);\n",
              "    }\n",
              "    20% {\n",
              "      border-color: transparent;\n",
              "      border-left-color: var(--fill-color);\n",
              "      border-top-color: var(--fill-color);\n",
              "    }\n",
              "    30% {\n",
              "      border-color: transparent;\n",
              "      border-left-color: var(--fill-color);\n",
              "      border-top-color: var(--fill-color);\n",
              "      border-right-color: var(--fill-color);\n",
              "    }\n",
              "    40% {\n",
              "      border-color: transparent;\n",
              "      border-right-color: var(--fill-color);\n",
              "      border-top-color: var(--fill-color);\n",
              "    }\n",
              "    60% {\n",
              "      border-color: transparent;\n",
              "      border-right-color: var(--fill-color);\n",
              "    }\n",
              "    80% {\n",
              "      border-color: transparent;\n",
              "      border-right-color: var(--fill-color);\n",
              "      border-bottom-color: var(--fill-color);\n",
              "    }\n",
              "    90% {\n",
              "      border-color: transparent;\n",
              "      border-bottom-color: var(--fill-color);\n",
              "    }\n",
              "  }\n",
              "</style>\n",
              "\n",
              "  <script>\n",
              "    async function quickchart(key) {\n",
              "      const quickchartButtonEl =\n",
              "        document.querySelector('#' + key + ' button');\n",
              "      quickchartButtonEl.disabled = true;  // To prevent multiple clicks.\n",
              "      quickchartButtonEl.classList.add('colab-df-spinner');\n",
              "      try {\n",
              "        const charts = await google.colab.kernel.invokeFunction(\n",
              "            'suggestCharts', [key], {});\n",
              "      } catch (error) {\n",
              "        console.error('Error during call to suggestCharts:', error);\n",
              "      }\n",
              "      quickchartButtonEl.classList.remove('colab-df-spinner');\n",
              "      quickchartButtonEl.classList.add('colab-df-quickchart-complete');\n",
              "    }\n",
              "    (() => {\n",
              "      let quickchartButtonEl =\n",
              "        document.querySelector('#df-a20a2953-dc29-4e44-9a1f-d4b9ebf7296c button');\n",
              "      quickchartButtonEl.style.display =\n",
              "        google.colab.kernel.accessAllowed ? 'block' : 'none';\n",
              "    })();\n",
              "  </script>\n",
              "</div>\n",
              "\n",
              "    </div>\n",
              "  </div>\n"
            ],
            "application/vnd.google.colaboratory.intrinsic+json": {
              "type": "dataframe",
              "variable_name": "review_data",
              "summary": "{\n  \"name\": \"review_data\",\n  \"rows\": 50000,\n  \"fields\": [\n    {\n      \"column\": \"review\",\n      \"properties\": {\n        \"dtype\": \"string\",\n        \"num_unique_values\": 49582,\n        \"samples\": [\n          \"\\\"Soul Plane\\\" is a horrible attempt at comedy that only should appeal people with thick skulls, bloodshot eyes and furry pawns. <br /><br />The plot is not only incoherent but also non-existent, acting is mostly sub sub-par with a gang of highly moronic and dreadful characters thrown in for bad measure, jokes are often spotted miles ahead and almost never even a bit amusing. This movie lacks any structure and is full of racial stereotypes that must have seemed old even in the fifties, the only thing it really has going for it is some pretty ladies, but really, if you want that you can rent something from the \\\"Adult\\\" section. OK?<br /><br />I can hardly see anything here to recommend since you'll probably have a lot a better and productive time chasing rats with a sledgehammer or inventing waterproof teabags or whatever.<br /><br />2/10\",\n          \"Guest from the Future tells a fascinating story of time travel, friendship, battle of good and evil -- all with a small budget, child actors, and few special effects. Something for Spielberg and Lucas to learn from. ;) A sixth-grader Kolya \\\"Nick\\\" Gerasimov finds a time machine in the basement of a decrepit building and travels 100 years into the future. He discovers a near-perfect, utopian society where robots play guitars and write poetry, everyone is kind to each other and people enjoy everything technology has to offer. Alice is the daughter of a prominent scientist who invented a device called Mielophone that allows to read minds of humans and animals. The device can be put to both good and bad use, depending on whose hands it falls into. When two evil space pirates from Saturn who want to rule the universe attempt to steal Mielophone, it falls into the hands of 20th century school boy Nick. With the pirates hot on his tracks, he travels back to his time, followed by the pirates, and Alice. Chaos, confusion and funny situations follow as the luckless pirates try to blend in with the earthlings. Alice enrolls in the same school Nick goes to and demonstrates superhuman abilities in PE class. The catch is, Alice doesn't know what Nick looks like, while the pirates do. Also, the pirates are able to change their appearance and turn literally into anyone. (Hmm, I wonder if this is where James Cameron got the idea for Terminator...) Who gets to Nick -- and Mielophone -- first? Excellent plot, non-stop adventures, and great soundtrack. I wish Hollywood made kid movies like this one...\",\n          \"\\\"National Treasure\\\" (2004) is a thoroughly misguided hodge-podge of plot entanglements that borrow from nearly every cloak and dagger government conspiracy clich\\u00e9 that has ever been written. The film stars Nicholas Cage as Benjamin Franklin Gates (how precious is that, I ask you?); a seemingly normal fellow who, for no other reason than being of a lineage of like-minded misguided fortune hunters, decides to steal a 'national treasure' that has been hidden by the United States founding fathers. After a bit of subtext and background that plays laughably (unintentionally) like Indiana Jones meets The Patriot, the film degenerates into one misguided whimsy after another \\u0096 attempting to create a 'Stanley Goodspeed' regurgitation of Nicholas Cage and launch the whole convoluted mess forward with a series of high octane, but disconnected misadventures.<br /><br />The relevancy and logic to having George Washington and his motley crew of patriots burying a king's ransom someplace on native soil, and then, going through the meticulous plan of leaving clues scattered throughout U.S. currency art work, is something that director Jon Turteltaub never quite gets around to explaining. Couldn't Washington found better usage for such wealth during the start up of the country? Hence, we are left with a mystery built on top of an enigma that is already on shaky ground by the time Ben appoints himself the new custodian of this untold wealth. Ben's intentions are noble \\u0096 if confusing. He's set on protecting the treasure. For who and when?\\u0085your guess is as good as mine.<br /><br />But there are a few problems with Ben's crusade. First up, his friend, Ian Holmes (Sean Bean) decides that he can't wait for Ben to make up his mind about stealing the Declaration of Independence from the National Archives (oh, yeah \\u0096 brilliant idea!). Presumably, the back of that famous document holds the secret answer to the ultimate fortune. So Ian tries to kill Ben. The assassination attempt is, of course, unsuccessful, if overly melodramatic. It also affords Ben the opportunity to pick up, and pick on, the very sultry curator of the archives, Abigail Chase (Diane Kruger). She thinks Ben is clearly a nut \\u0096 at least at the beginning. But true to action/romance form, Abby's resolve melts quicker than you can say, \\\"is that the Hope Diamond?\\\" The film moves into full X-File-ish mode, as the FBI, mistakenly believing that Ben is behind the theft, retaliate in various benign ways that lead to a multi-layering of action sequences reminiscent of Mission Impossible meets The Fugitive. Honestly, don't those guys ever get 'intelligence' information that is correct? In the final analysis, \\\"National Treasure\\\" isn't great film making, so much as it's a patchwork rehash of tired old bits from other movies, woven together from scraps, the likes of which would make IL' Betsy Ross blush.<br /><br />The Buena Vista DVD delivers a far more generous treatment than this film is deserving of. The anamorphic widescreen picture exhibits a very smooth and finely detailed image with very rich colors, natural flesh tones, solid blacks and clean whites. The stylized image is also free of blemishes and digital enhancements. The audio is 5.1 and delivers a nice sonic boom to your side and rear speakers with intensity and realism. Extras include a host of promotional junket material that is rather deep and over the top in its explanation of how and why this film was made. If only, as an audience, we had had more clarification as to why Ben and co. were chasing after an illusive treasure, this might have been one good flick. Extras conclude with the theatrical trailer, audio commentary and deleted scenes. Not for the faint-hearted \\u0096 just the thick-headed.\"\n        ],\n        \"semantic_type\": \"\",\n        \"description\": \"\"\n      }\n    },\n    {\n      \"column\": \"sentiment\",\n      \"properties\": {\n        \"dtype\": \"category\",\n        \"num_unique_values\": 2,\n        \"samples\": [\n          \"negative\",\n          \"positive\"\n        ],\n        \"semantic_type\": \"\",\n        \"description\": \"\"\n      }\n    }\n  ]\n}"
            }
          },
          "metadata": {},
          "execution_count": 4
        }
      ]
    },
    {
      "cell_type": "code",
      "source": [
        "### Take the reviews text as a list of elements and then perform the basic preprocessing\n",
        "reviews= list(review_data['review'])\n",
        "reviews[0:5]"
      ],
      "metadata": {
        "colab": {
          "base_uri": "https://localhost:8080/"
        },
        "id": "tfIGWiJw78-s",
        "outputId": "ec8dea82-7abd-4b8a-c63e-9a19194793ae"
      },
      "execution_count": null,
      "outputs": [
        {
          "output_type": "execute_result",
          "data": {
            "text/plain": [
              "[\"One of the other reviewers has mentioned that after watching just 1 Oz episode you'll be hooked. They are right, as this is exactly what happened with me.<br /><br />The first thing that struck me about Oz was its brutality and unflinching scenes of violence, which set in right from the word GO. Trust me, this is not a show for the faint hearted or timid. This show pulls no punches with regards to drugs, sex or violence. Its is hardcore, in the classic use of the word.<br /><br />It is called OZ as that is the nickname given to the Oswald Maximum Security State Penitentary. It focuses mainly on Emerald City, an experimental section of the prison where all the cells have glass fronts and face inwards, so privacy is not high on the agenda. Em City is home to many..Aryans, Muslims, gangstas, Latinos, Christians, Italians, Irish and more....so scuffles, death stares, dodgy dealings and shady agreements are never far away.<br /><br />I would say the main appeal of the show is due to the fact that it goes where other shows wouldn't dare. Forget pretty pictures painted for mainstream audiences, forget charm, forget romance...OZ doesn't mess around. The first episode I ever saw struck me as so nasty it was surreal, I couldn't say I was ready for it, but as I watched more, I developed a taste for Oz, and got accustomed to the high levels of graphic violence. Not just violence, but injustice (crooked guards who'll be sold out for a nickel, inmates who'll kill on order and get away with it, well mannered, middle class inmates being turned into prison bitches due to their lack of street skills or prison experience) Watching Oz, you may become comfortable with what is uncomfortable viewing....thats if you can get in touch with your darker side.\",\n",
              " 'A wonderful little production. <br /><br />The filming technique is very unassuming- very old-time-BBC fashion and gives a comforting, and sometimes discomforting, sense of realism to the entire piece. <br /><br />The actors are extremely well chosen- Michael Sheen not only \"has got all the polari\" but he has all the voices down pat too! You can truly see the seamless editing guided by the references to Williams\\' diary entries, not only is it well worth the watching but it is a terrificly written and performed piece. A masterful production about one of the great master\\'s of comedy and his life. <br /><br />The realism really comes home with the little things: the fantasy of the guard which, rather than use the traditional \\'dream\\' techniques remains solid then disappears. It plays on our knowledge and our senses, particularly with the scenes concerning Orton and Halliwell and the sets (particularly of their flat with Halliwell\\'s murals decorating every surface) are terribly well done.',\n",
              " 'I thought this was a wonderful way to spend time on a too hot summer weekend, sitting in the air conditioned theater and watching a light-hearted comedy. The plot is simplistic, but the dialogue is witty and the characters are likable (even the well bread suspected serial killer). While some may be disappointed when they realize this is not Match Point 2: Risk Addiction, I thought it was proof that Woody Allen is still fully in control of the style many of us have grown to love.<br /><br />This was the most I\\'d laughed at one of Woody\\'s comedies in years (dare I say a decade?). While I\\'ve never been impressed with Scarlet Johanson, in this she managed to tone down her \"sexy\" image and jumped right into a average, but spirited young woman.<br /><br />This may not be the crown jewel of his career, but it was wittier than \"Devil Wears Prada\" and more interesting than \"Superman\" a great comedy to go see with friends.',\n",
              " \"Basically there's a family where a little boy (Jake) thinks there's a zombie in his closet & his parents are fighting all the time.<br /><br />This movie is slower than a soap opera... and suddenly, Jake decides to become Rambo and kill the zombie.<br /><br />OK, first of all when you're going to make a film you must Decide if its a thriller or a drama! As a drama the movie is watchable. Parents are divorcing & arguing like in real life. And then we have Jake with his closet which totally ruins all the film! I expected to see a BOOGEYMAN similar movie, and instead i watched a drama with some meaningless thriller spots.<br /><br />3 out of 10 just for the well playing parents & descent dialogs. As for the shots with Jake: just ignore them.\",\n",
              " 'Petter Mattei\\'s \"Love in the Time of Money\" is a visually stunning film to watch. Mr. Mattei offers us a vivid portrait about human relations. This is a movie that seems to be telling us what money, power and success do to people in the different situations we encounter. <br /><br />This being a variation on the Arthur Schnitzler\\'s play about the same theme, the director transfers the action to the present time New York where all these different characters meet and connect. Each one is connected in one way, or another to the next person, but no one seems to know the previous point of contact. Stylishly, the film has a sophisticated luxurious look. We are taken to see how these people live and the world they live in their own habitat.<br /><br />The only thing one gets out of all these souls in the picture is the different stages of loneliness each one inhabits. A big city is not exactly the best place in which human relations find sincere fulfillment, as one discerns is the case with most of the people we encounter.<br /><br />The acting is good under Mr. Mattei\\'s direction. Steve Buscemi, Rosario Dawson, Carol Kane, Michael Imperioli, Adrian Grenier, and the rest of the talented cast, make these characters come alive.<br /><br />We wish Mr. Mattei good luck and await anxiously for his next work.']"
            ]
          },
          "metadata": {},
          "execution_count": 5
        }
      ]
    },
    {
      "cell_type": "code",
      "source": [
        "### Basic text preprocessing where we remove special characters, any tags etc\n",
        "#### Removal of stopwords\n",
        "text=[]\n",
        "for r in reviews:\n",
        "  text.append(remove_stopwords(r))\n",
        "text[0:5]"
      ],
      "metadata": {
        "colab": {
          "base_uri": "https://localhost:8080/"
        },
        "id": "FvIwsAYM9I2a",
        "outputId": "a7c5beb7-4638-48d4-af48-c6ce9db6a244"
      },
      "execution_count": null,
      "outputs": [
        {
          "output_type": "execute_result",
          "data": {
            "text/plain": [
              "[\"One reviewers mentioned watching 1 Oz episode you'll hooked. They right, exactly happened me.<br /><br />The thing struck Oz brutality unflinching scenes violence, set right word GO. Trust me, faint hearted timid. This pulls punches regards drugs, sex violence. Its hardcore, classic use word.<br /><br />It called OZ nickname given Oswald Maximum Security State Penitentary. It focuses mainly Emerald City, experimental section prison cells glass fronts face inwards, privacy high agenda. Em City home many..Aryans, Muslims, gangstas, Latinos, Christians, Italians, Irish more....so scuffles, death stares, dodgy dealings shady agreements far away.<br /><br />I main appeal fact goes shows wouldn't dare. Forget pretty pictures painted mainstream audiences, forget charm, forget romance...OZ doesn't mess around. The episode I saw struck nasty surreal, I couldn't I ready it, I watched more, I developed taste Oz, got accustomed high levels graphic violence. Not violence, injustice (crooked guards who'll sold nickel, inmates who'll kill order away it, mannered, middle class inmates turned prison bitches lack street skills prison experience) Watching Oz, comfortable uncomfortable viewing....thats touch darker side.\",\n",
              " 'A wonderful little production. <br /><br />The filming technique unassuming- old-time-BBC fashion gives comforting, discomforting, sense realism entire piece. <br /><br />The actors extremely chosen- Michael Sheen \"has got polari\" voices pat too! You truly seamless editing guided references Williams\\' diary entries, worth watching terrificly written performed piece. A masterful production great master\\'s comedy life. <br /><br />The realism comes home little things: fantasy guard which, use traditional \\'dream\\' techniques remains solid disappears. It plays knowledge senses, particularly scenes concerning Orton Halliwell sets (particularly flat Halliwell\\'s murals decorating surface) terribly done.',\n",
              " 'I thought wonderful way spend time hot summer weekend, sitting air conditioned theater watching light-hearted comedy. The plot simplistic, dialogue witty characters likable (even bread suspected serial killer). While disappointed realize Match Point 2: Risk Addiction, I thought proof Woody Allen fully control style grown love.<br /><br />This I\\'d laughed Woody\\'s comedies years (dare I decade?). While I\\'ve impressed Scarlet Johanson, managed tone \"sexy\" image jumped right average, spirited young woman.<br /><br />This crown jewel career, wittier \"Devil Wears Prada\" interesting \"Superman\" great comedy friends.',\n",
              " \"Basically there's family little boy (Jake) thinks there's zombie closet & parents fighting time.<br /><br />This movie slower soap opera... suddenly, Jake decides Rambo kill zombie.<br /><br />OK, you're going film Decide thriller drama! As drama movie watchable. Parents divorcing & arguing like real life. And Jake closet totally ruins film! I expected BOOGEYMAN similar movie, instead watched drama meaningless thriller spots.<br /><br />3 10 playing parents & descent dialogs. As shots Jake: ignore them.\",\n",
              " 'Petter Mattei\\'s \"Love Time Money\" visually stunning film watch. Mr. Mattei offers vivid portrait human relations. This movie telling money, power success people different situations encounter. <br /><br />This variation Arthur Schnitzler\\'s play theme, director transfers action present time New York different characters meet connect. Each connected way, person, know previous point contact. Stylishly, film sophisticated luxurious look. We taken people live world live habitat.<br /><br />The thing gets souls picture different stages loneliness inhabits. A big city exactly best place human relations fulfillment, discerns case people encounter.<br /><br />The acting good Mr. Mattei\\'s direction. Steve Buscemi, Rosario Dawson, Carol Kane, Michael Imperioli, Adrian Grenier, rest talented cast, characters come alive.<br /><br />We wish Mr. Mattei good luck await anxiously work.']"
            ]
          },
          "metadata": {},
          "execution_count": 6
        }
      ]
    },
    {
      "cell_type": "code",
      "source": [
        "### Removal of tags/special characters\n",
        "\n",
        "### Basic text preprocessing where we remove special characters, any tags etc\n",
        "#### Removal of stopwords\n",
        "#### Removal of tags\n",
        "text=[]\n",
        "for r in reviews:\n",
        "  r = re.sub(r'<.*?>',\"\",r)\n",
        "  text.append(remove_stopwords(r))\n",
        "text[0:5]"
      ],
      "metadata": {
        "colab": {
          "base_uri": "https://localhost:8080/"
        },
        "id": "OC4-BwIMB-OS",
        "outputId": "a8435195-2022-44e5-8477-14f099eab5dc"
      },
      "execution_count": null,
      "outputs": [
        {
          "output_type": "execute_result",
          "data": {
            "text/plain": [
              "[\"One reviewers mentioned watching 1 Oz episode you'll hooked. They right, exactly happened me.The thing struck Oz brutality unflinching scenes violence, set right word GO. Trust me, faint hearted timid. This pulls punches regards drugs, sex violence. Its hardcore, classic use word.It called OZ nickname given Oswald Maximum Security State Penitentary. It focuses mainly Emerald City, experimental section prison cells glass fronts face inwards, privacy high agenda. Em City home many..Aryans, Muslims, gangstas, Latinos, Christians, Italians, Irish more....so scuffles, death stares, dodgy dealings shady agreements far away.I main appeal fact goes shows wouldn't dare. Forget pretty pictures painted mainstream audiences, forget charm, forget romance...OZ doesn't mess around. The episode I saw struck nasty surreal, I couldn't I ready it, I watched more, I developed taste Oz, got accustomed high levels graphic violence. Not violence, injustice (crooked guards who'll sold nickel, inmates who'll kill order away it, mannered, middle class inmates turned prison bitches lack street skills prison experience) Watching Oz, comfortable uncomfortable viewing....thats touch darker side.\",\n",
              " 'A wonderful little production. The filming technique unassuming- old-time-BBC fashion gives comforting, discomforting, sense realism entire piece. The actors extremely chosen- Michael Sheen \"has got polari\" voices pat too! You truly seamless editing guided references Williams\\' diary entries, worth watching terrificly written performed piece. A masterful production great master\\'s comedy life. The realism comes home little things: fantasy guard which, use traditional \\'dream\\' techniques remains solid disappears. It plays knowledge senses, particularly scenes concerning Orton Halliwell sets (particularly flat Halliwell\\'s murals decorating surface) terribly done.',\n",
              " 'I thought wonderful way spend time hot summer weekend, sitting air conditioned theater watching light-hearted comedy. The plot simplistic, dialogue witty characters likable (even bread suspected serial killer). While disappointed realize Match Point 2: Risk Addiction, I thought proof Woody Allen fully control style grown love.This I\\'d laughed Woody\\'s comedies years (dare I decade?). While I\\'ve impressed Scarlet Johanson, managed tone \"sexy\" image jumped right average, spirited young woman.This crown jewel career, wittier \"Devil Wears Prada\" interesting \"Superman\" great comedy friends.',\n",
              " \"Basically there's family little boy (Jake) thinks there's zombie closet & parents fighting time.This movie slower soap opera... suddenly, Jake decides Rambo kill zombie.OK, you're going film Decide thriller drama! As drama movie watchable. Parents divorcing & arguing like real life. And Jake closet totally ruins film! I expected BOOGEYMAN similar movie, instead watched drama meaningless thriller spots.3 10 playing parents & descent dialogs. As shots Jake: ignore them.\",\n",
              " 'Petter Mattei\\'s \"Love Time Money\" visually stunning film watch. Mr. Mattei offers vivid portrait human relations. This movie telling money, power success people different situations encounter. This variation Arthur Schnitzler\\'s play theme, director transfers action present time New York different characters meet connect. Each connected way, person, know previous point contact. Stylishly, film sophisticated luxurious look. We taken people live world live habitat.The thing gets souls picture different stages loneliness inhabits. A big city exactly best place human relations fulfillment, discerns case people encounter.The acting good Mr. Mattei\\'s direction. Steve Buscemi, Rosario Dawson, Carol Kane, Michael Imperioli, Adrian Grenier, rest talented cast, characters come alive.We wish Mr. Mattei good luck await anxiously work.']"
            ]
          },
          "metadata": {},
          "execution_count": 7
        }
      ]
    },
    {
      "cell_type": "code",
      "source": [
        "### Basic text preprocessing where we remove special characters, any tags etc\n",
        "#### Removal of stopwords\n",
        "#### Removal of tags\n",
        "#### Removal of special characters\n",
        "#### Removal of email id\n",
        "#### Removal of numbers\n",
        "text=[]\n",
        "for r in reviews:\n",
        "  r = re.sub(r'<.*?>',\"\",r)\n",
        "  r = re.sub(r'\\S+@\\S+\\s','',r)\n",
        "  r = re.sub(r'\\d+','',r)\n",
        "  r = re.sub(r'[#$!\\*\\)\\(\\\\%:;,\\'_-]','',r)\n",
        "  text.append(remove_stopwords(r))\n",
        "text[0:5]"
      ],
      "metadata": {
        "colab": {
          "base_uri": "https://localhost:8080/"
        },
        "id": "NHLOy3MUCTO1",
        "outputId": "bb285f90-949d-4d27-a63a-d0b5a0b5508d"
      },
      "execution_count": null,
      "outputs": [
        {
          "output_type": "execute_result",
          "data": {
            "text/plain": [
              "['One reviewers mentioned watching Oz episode youll hooked. They right exactly happened me.The thing struck Oz brutality unflinching scenes violence set right word GO. Trust faint hearted timid. This pulls punches regards drugs sex violence. Its hardcore classic use word.It called OZ nickname given Oswald Maximum Security State Penitentary. It focuses mainly Emerald City experimental section prison cells glass fronts face inwards privacy high agenda. Em City home many..Aryans Muslims gangstas Latinos Christians Italians Irish more....so scuffles death stares dodgy dealings shady agreements far away.I main appeal fact goes shows wouldnt dare. Forget pretty pictures painted mainstream audiences forget charm forget romance...OZ doesnt mess around. The episode I saw struck nasty surreal I I ready I watched I developed taste Oz got accustomed high levels graphic violence. Not violence injustice crooked guards wholl sold nickel inmates wholl kill order away mannered middle class inmates turned prison bitches lack street skills prison experience Watching Oz comfortable uncomfortable viewing....thats touch darker side.',\n",
              " 'A wonderful little production. The filming technique unassuming oldtimeBBC fashion gives comforting discomforting sense realism entire piece. The actors extremely chosen Michael Sheen \"has got polari\" voices pat You truly seamless editing guided references Williams diary entries worth watching terrificly written performed piece. A masterful production great masters comedy life. The realism comes home little things fantasy guard use traditional dream techniques remains solid disappears. It plays knowledge senses particularly scenes concerning Orton Halliwell sets particularly flat Halliwells murals decorating surface terribly done.',\n",
              " 'I thought wonderful way spend time hot summer weekend sitting air conditioned theater watching lighthearted comedy. The plot simplistic dialogue witty characters likable bread suspected serial killer. While disappointed realize Match Point Risk Addiction I thought proof Woody Allen fully control style grown love.This Id laughed Woodys comedies years dare I decade?. While Ive impressed Scarlet Johanson managed tone \"sexy\" image jumped right average spirited young woman.This crown jewel career wittier \"Devil Wears Prada\" interesting \"Superman\" great comedy friends.',\n",
              " 'Basically theres family little boy Jake thinks theres zombie closet & parents fighting time.This movie slower soap opera... suddenly Jake decides Rambo kill zombie.OK youre going film Decide thriller drama As drama movie watchable. Parents divorcing & arguing like real life. And Jake closet totally ruins film I expected BOOGEYMAN similar movie instead watched drama meaningless thriller spots. playing parents & descent dialogs. As shots Jake ignore them.',\n",
              " 'Petter Matteis \"Love Time Money\" visually stunning film watch. Mr. Mattei offers vivid portrait human relations. This movie telling money power success people different situations encounter. This variation Arthur Schnitzlers play theme director transfers action present time New York different characters meet connect. Each connected way person know previous point contact. Stylishly film sophisticated luxurious look. We taken people live world live habitat.The thing gets souls picture different stages loneliness inhabits. A big city exactly best place human relations fulfillment discerns case people encounter.The acting good Mr. Matteis direction. Steve Buscemi Rosario Dawson Carol Kane Michael Imperioli Adrian Grenier rest talented cast characters come alive.We wish Mr. Mattei good luck await anxiously work.']"
            ]
          },
          "metadata": {},
          "execution_count": 8
        }
      ]
    },
    {
      "cell_type": "code",
      "source": [
        "### Now the reviews are faily clean, we will tokenize the reviews and get word embeddings for these\n",
        "tokenizer=Tokenizer(num_words=5000,lower=True,oov_token='UNK')"
      ],
      "metadata": {
        "id": "TyoCcE6bC5pt"
      },
      "execution_count": null,
      "outputs": []
    },
    {
      "cell_type": "code",
      "source": [
        "## Before applying the tokenizer, lets split the data into train test\n",
        "train_text=text[:len(text)-500]\n",
        "test_text=text[-500:]\n",
        "print(len(text),len(train_text),len(test_text))"
      ],
      "metadata": {
        "colab": {
          "base_uri": "https://localhost:8080/"
        },
        "id": "2OwDozGREueP",
        "outputId": "8ac486f3-c15d-4a37-ede4-81c2cfe089c8"
      },
      "execution_count": null,
      "outputs": [
        {
          "output_type": "stream",
          "name": "stdout",
          "text": [
            "50000 49500 500\n"
          ]
        }
      ]
    },
    {
      "cell_type": "code",
      "source": [
        "### Now lets tokenize the reviews\n",
        "tokenizer.fit_on_texts(train_text)"
      ],
      "metadata": {
        "id": "axzNro5VGVQo"
      },
      "execution_count": null,
      "outputs": []
    },
    {
      "cell_type": "code",
      "source": [
        "tokenizer.word_index"
      ],
      "metadata": {
        "colab": {
          "base_uri": "https://localhost:8080/"
        },
        "id": "OBsYryW0GZ0J",
        "outputId": "cf260e27-c3e3-4022-cfc8-2ab38b234940"
      },
      "execution_count": null,
      "outputs": [
        {
          "output_type": "execute_result",
          "data": {
            "text/plain": [
              "{'UNK': 1,\n",
              " 'i': 2,\n",
              " 'the': 3,\n",
              " 'movie': 4,\n",
              " 'film': 5,\n",
              " 'it': 6,\n",
              " 'like': 7,\n",
              " 'this': 8,\n",
              " 'good': 9,\n",
              " 'time': 10,\n",
              " 'story': 11,\n",
              " 'bad': 12,\n",
              " 'great': 13,\n",
              " 'people': 14,\n",
              " 'dont': 15,\n",
              " 'movies': 16,\n",
              " 'and': 17,\n",
              " 'films': 18,\n",
              " 'way': 19,\n",
              " 'but': 20,\n",
              " 'characters': 21,\n",
              " 'think': 22,\n",
              " 'watch': 23,\n",
              " 'its': 24,\n",
              " 'in': 25,\n",
              " 'a': 26,\n",
              " 'seen': 27,\n",
              " 'character': 28,\n",
              " 'love': 29,\n",
              " 'acting': 30,\n",
              " 'plot': 31,\n",
              " 'best': 32,\n",
              " 'know': 33,\n",
              " 'little': 34,\n",
              " 'life': 35,\n",
              " 'there': 36,\n",
              " 'better': 37,\n",
              " 'if': 38,\n",
              " 'end': 39,\n",
              " 'scene': 40,\n",
              " 'man': 41,\n",
              " 'scenes': 42,\n",
              " 's': 43,\n",
              " 'he': 44,\n",
              " 'im': 45,\n",
              " 'watching': 46,\n",
              " 'thing': 47,\n",
              " 'real': 48,\n",
              " 'actors': 49,\n",
              " 'doesnt': 50,\n",
              " 'years': 51,\n",
              " 'didnt': 52,\n",
              " 'funny': 53,\n",
              " 'actually': 54,\n",
              " 'makes': 55,\n",
              " 'work': 56,\n",
              " 'look': 57,\n",
              " 'going': 58,\n",
              " 'director': 59,\n",
              " 'lot': 60,\n",
              " 'new': 61,\n",
              " 'one': 62,\n",
              " 'you': 63,\n",
              " 'old': 64,\n",
              " 'thats': 65,\n",
              " 'things': 66,\n",
              " 'cast': 67,\n",
              " 'want': 68,\n",
              " 'pretty': 69,\n",
              " 'all': 70,\n",
              " 'world': 71,\n",
              " 'horror': 72,\n",
              " 'young': 73,\n",
              " 'got': 74,\n",
              " 'fact': 75,\n",
              " 'what': 76,\n",
              " 'that': 77,\n",
              " 'as': 78,\n",
              " 'big': 79,\n",
              " 'thought': 80,\n",
              " 'ive': 81,\n",
              " 'not': 82,\n",
              " 'so': 83,\n",
              " 'right': 84,\n",
              " 'long': 85,\n",
              " 'comedy': 86,\n",
              " 'music': 87,\n",
              " 'they': 88,\n",
              " 'isnt': 89,\n",
              " 'well': 90,\n",
              " 'times': 91,\n",
              " 'original': 92,\n",
              " 'saw': 93,\n",
              " 'series': 94,\n",
              " 'gets': 95,\n",
              " 'come': 96,\n",
              " 'role': 97,\n",
              " 'action': 98,\n",
              " 'interesting': 99,\n",
              " 'theres': 100,\n",
              " 'guy': 101,\n",
              " 'point': 102,\n",
              " 'bit': 103,\n",
              " 'minutes': 104,\n",
              " 'script': 105,\n",
              " 'far': 106,\n",
              " 'hes': 107,\n",
              " 'feel': 108,\n",
              " 'family': 109,\n",
              " 'probably': 110,\n",
              " 'performance': 111,\n",
              " 'kind': 112,\n",
              " 'away': 113,\n",
              " 'worst': 114,\n",
              " 'fun': 115,\n",
              " 'sure': 116,\n",
              " 'tv': 117,\n",
              " 'for': 118,\n",
              " 'played': 119,\n",
              " 'girl': 120,\n",
              " 'making': 121,\n",
              " 'woman': 122,\n",
              " 'believe': 123,\n",
              " 'when': 124,\n",
              " 'having': 125,\n",
              " 'shows': 126,\n",
              " 'trying': 127,\n",
              " 'she': 128,\n",
              " 'especially': 129,\n",
              " 'course': 130,\n",
              " 'day': 131,\n",
              " 'hard': 132,\n",
              " 'goes': 133,\n",
              " 'comes': 134,\n",
              " 'dvd': 135,\n",
              " 'maybe': 136,\n",
              " 'ending': 137,\n",
              " 'place': 138,\n",
              " 'different': 139,\n",
              " 'worth': 140,\n",
              " 'looking': 141,\n",
              " 'book': 142,\n",
              " 'screen': 143,\n",
              " 'main': 144,\n",
              " 'sense': 145,\n",
              " 'reason': 146,\n",
              " 'looks': 147,\n",
              " 'wasnt': 148,\n",
              " 'watched': 149,\n",
              " 'set': 150,\n",
              " 'effects': 151,\n",
              " 'money': 152,\n",
              " 'job': 153,\n",
              " 'play': 154,\n",
              " 'true': 155,\n",
              " 'actor': 156,\n",
              " 'is': 157,\n",
              " 'plays': 158,\n",
              " 'to': 159,\n",
              " 'said': 160,\n",
              " 'instead': 161,\n",
              " 'my': 162,\n",
              " 'on': 163,\n",
              " 'later': 164,\n",
              " 'takes': 165,\n",
              " 'american': 166,\n",
              " 'special': 167,\n",
              " 'beautiful': 168,\n",
              " 'audience': 169,\n",
              " 'seeing': 170,\n",
              " 'left': 171,\n",
              " 'war': 172,\n",
              " 'of': 173,\n",
              " 'john': 174,\n",
              " 'excellent': 175,\n",
              " 'version': 176,\n",
              " 'no': 177,\n",
              " 'night': 178,\n",
              " 'idea': 179,\n",
              " 'however': 180,\n",
              " 'shot': 181,\n",
              " 'black': 182,\n",
              " 'fan': 183,\n",
              " 'simply': 184,\n",
              " 'high': 185,\n",
              " 'house': 186,\n",
              " 'youre': 187,\n",
              " 'death': 188,\n",
              " 'we': 189,\n",
              " 'completely': 190,\n",
              " 'poor': 191,\n",
              " 'nice': 192,\n",
              " 'kids': 193,\n",
              " 'wife': 194,\n",
              " 'read': 195,\n",
              " 'friends': 196,\n",
              " 'year': 197,\n",
              " 'short': 198,\n",
              " 'help': 199,\n",
              " 'mind': 200,\n",
              " 'second': 201,\n",
              " 'me': 202,\n",
              " 'at': 203,\n",
              " 'star': 204,\n",
              " 'boring': 205,\n",
              " 'home': 206,\n",
              " 'men': 207,\n",
              " 'try': 208,\n",
              " 'enjoy': 209,\n",
              " 'half': 210,\n",
              " 'wrong': 211,\n",
              " 'given': 212,\n",
              " 'use': 213,\n",
              " 'now': 214,\n",
              " 'need': 215,\n",
              " 'classic': 216,\n",
              " 'dead': 217,\n",
              " 'performances': 218,\n",
              " 'stupid': 219,\n",
              " 'rest': 220,\n",
              " 'production': 221,\n",
              " 'truly': 222,\n",
              " 'father': 223,\n",
              " 'her': 224,\n",
              " 'hollywood': 225,\n",
              " 'couple': 226,\n",
              " 'them': 227,\n",
              " 'line': 228,\n",
              " 'recommend': 229,\n",
              " 'why': 230,\n",
              " 'start': 231,\n",
              " 'here': 232,\n",
              " 'with': 233,\n",
              " 'women': 234,\n",
              " 'tell': 235,\n",
              " 'after': 236,\n",
              " 'let': 237,\n",
              " 'awful': 238,\n",
              " 'came': 239,\n",
              " 'terrible': 240,\n",
              " 'remember': 241,\n",
              " 'getting': 242,\n",
              " 'understand': 243,\n",
              " 'camera': 244,\n",
              " 'school': 245,\n",
              " 'moments': 246,\n",
              " 'then': 247,\n",
              " 'sex': 248,\n",
              " 'mean': 249,\n",
              " 'him': 250,\n",
              " 'even': 251,\n",
              " 'wonderful': 252,\n",
              " 'video': 253,\n",
              " 'playing': 254,\n",
              " 'episode': 255,\n",
              " 'budget': 256,\n",
              " 'definitely': 257,\n",
              " 'human': 258,\n",
              " 'person': 259,\n",
              " 'perfect': 260,\n",
              " 'early': 261,\n",
              " 'face': 262,\n",
              " 'gives': 263,\n",
              " 'small': 264,\n",
              " 'lines': 265,\n",
              " 'dialogue': 266,\n",
              " 'guys': 267,\n",
              " 'his': 268,\n",
              " 'went': 269,\n",
              " 'piece': 270,\n",
              " 'stars': 271,\n",
              " 'absolutely': 272,\n",
              " 'while': 273,\n",
              " 'finally': 274,\n",
              " 'title': 275,\n",
              " 'certainly': 276,\n",
              " 'case': 277,\n",
              " 'head': 278,\n",
              " 'liked': 279,\n",
              " 'yes': 280,\n",
              " 'entertaining': 281,\n",
              " 'worse': 282,\n",
              " 'also': 283,\n",
              " 'sort': 284,\n",
              " 'lost': 285,\n",
              " 'hope': 286,\n",
              " 'loved': 287,\n",
              " 'mother': 288,\n",
              " 'style': 289,\n",
              " 'felt': 290,\n",
              " 'entire': 291,\n",
              " 'live': 292,\n",
              " 'written': 293,\n",
              " 'picture': 294,\n",
              " 'overall': 295,\n",
              " 'supposed': 296,\n",
              " 'mr': 297,\n",
              " 'oh': 298,\n",
              " 'laugh': 299,\n",
              " 'boy': 300,\n",
              " 'cinema': 301,\n",
              " 'friend': 302,\n",
              " 'problem': 303,\n",
              " 'waste': 304,\n",
              " 'sound': 305,\n",
              " 'beginning': 306,\n",
              " 'out': 307,\n",
              " 'based': 308,\n",
              " 'totally': 309,\n",
              " 'shes': 310,\n",
              " 'fans': 311,\n",
              " 'some': 312,\n",
              " 'care': 313,\n",
              " 'wanted': 314,\n",
              " 'drama': 315,\n",
              " 'humor': 316,\n",
              " 'dark': 317,\n",
              " 'children': 318,\n",
              " 'lives': 319,\n",
              " 'despite': 320,\n",
              " 'id': 321,\n",
              " 'game': 322,\n",
              " 'direction': 323,\n",
              " 'final': 324,\n",
              " 'lead': 325,\n",
              " 'guess': 326,\n",
              " 'example': 327,\n",
              " 'evil': 328,\n",
              " 'youll': 329,\n",
              " 'wont': 330,\n",
              " 'days': 331,\n",
              " 'unfortunately': 332,\n",
              " 'how': 333,\n",
              " 'again': 334,\n",
              " 'low': 335,\n",
              " 'called': 336,\n",
              " 'turn': 337,\n",
              " 'able': 338,\n",
              " 'white': 339,\n",
              " 'too': 340,\n",
              " 'girls': 341,\n",
              " 'wants': 342,\n",
              " 'do': 343,\n",
              " 'history': 344,\n",
              " 'fine': 345,\n",
              " 'quality': 346,\n",
              " 'amazing': 347,\n",
              " 'horrible': 348,\n",
              " 'writing': 349,\n",
              " 'just': 350,\n",
              " '\\x96': 351,\n",
              " 'works': 352,\n",
              " 'flick': 353,\n",
              " 'theyre': 354,\n",
              " 'act': 355,\n",
              " 'killer': 356,\n",
              " 'kill': 357,\n",
              " 'tries': 358,\n",
              " 'turns': 359,\n",
              " 'enjoyed': 360,\n",
              " 'michael': 361,\n",
              " 'son': 362,\n",
              " 'past': 363,\n",
              " 'gave': 364,\n",
              " 'parts': 365,\n",
              " 'matter': 366,\n",
              " 'stuff': 367,\n",
              " 'brilliant': 368,\n",
              " 'eyes': 369,\n",
              " 'favorite': 370,\n",
              " 'expect': 371,\n",
              " 'town': 372,\n",
              " 'ones': 373,\n",
              " 'run': 374,\n",
              " 'car': 375,\n",
              " 'obviously': 376,\n",
              " 'starts': 377,\n",
              " 'actress': 378,\n",
              " 'directed': 379,\n",
              " 'viewer': 380,\n",
              " 'soon': 381,\n",
              " 'killed': 382,\n",
              " 'thinking': 383,\n",
              " 'first': 384,\n",
              " 'heart': 385,\n",
              " 'art': 386,\n",
              " 'genre': 387,\n",
              " 'city': 388,\n",
              " 'says': 389,\n",
              " 'late': 390,\n",
              " 'decent': 391,\n",
              " 'group': 392,\n",
              " 'took': 393,\n",
              " 'ill': 394,\n",
              " 'highly': 395,\n",
              " 'heard': 396,\n",
              " 'happens': 397,\n",
              " 'hell': 398,\n",
              " 'feeling': 399,\n",
              " 'experience': 400,\n",
              " 'kid': 401,\n",
              " 'child': 402,\n",
              " 'from': 403,\n",
              " 'hour': 404,\n",
              " 'fight': 405,\n",
              " 'leave': 406,\n",
              " 'blood': 407,\n",
              " 'moment': 408,\n",
              " 'close': 409,\n",
              " 'extremely': 410,\n",
              " 'police': 411,\n",
              " 'told': 412,\n",
              " 'stories': 413,\n",
              " 'score': 414,\n",
              " 'coming': 415,\n",
              " 'wouldnt': 416,\n",
              " 'lack': 417,\n",
              " 'involved': 418,\n",
              " 'show': 419,\n",
              " 'daughter': 420,\n",
              " 'chance': 421,\n",
              " 'wonder': 422,\n",
              " 'god': 423,\n",
              " 'hand': 424,\n",
              " 'happen': 425,\n",
              " 'roles': 426,\n",
              " 'type': 427,\n",
              " 'hilarious': 428,\n",
              " 'violence': 429,\n",
              " 'looked': 430,\n",
              " 'save': 431,\n",
              " 'strong': 432,\n",
              " 'ok': 433,\n",
              " 'living': 434,\n",
              " 'happened': 435,\n",
              " 'particularly': 436,\n",
              " 'stop': 437,\n",
              " 'murder': 438,\n",
              " 'including': 439,\n",
              " 'attempt': 440,\n",
              " 'obvious': 441,\n",
              " 'complete': 442,\n",
              " 'simple': 443,\n",
              " 'james': 444,\n",
              " 'taken': 445,\n",
              " 'shown': 446,\n",
              " 'cool': 447,\n",
              " 'ago': 448,\n",
              " 'crap': 449,\n",
              " 'song': 450,\n",
              " 'voice': 451,\n",
              " 'robert': 452,\n",
              " 'reality': 453,\n",
              " 'seriously': 454,\n",
              " 'lets': 455,\n",
              " 'david': 456,\n",
              " 'known': 457,\n",
              " 'exactly': 458,\n",
              " 'released': 459,\n",
              " 'up': 460,\n",
              " 'today': 461,\n",
              " 'although': 462,\n",
              " 'jokes': 463,\n",
              " 'writer': 464,\n",
              " 'possible': 465,\n",
              " 'opening': 466,\n",
              " 'gore': 467,\n",
              " 'slow': 468,\n",
              " 'number': 469,\n",
              " 'usually': 470,\n",
              " 'saying': 471,\n",
              " 'hours': 472,\n",
              " 'sad': 473,\n",
              " 'relationship': 474,\n",
              " 'etc': 475,\n",
              " 'career': 476,\n",
              " 'english': 477,\n",
              " 'cinematography': 478,\n",
              " 'huge': 479,\n",
              " 'order': 480,\n",
              " 'wish': 481,\n",
              " 'annoying': 482,\n",
              " 'talent': 483,\n",
              " 'cut': 484,\n",
              " 'hit': 485,\n",
              " 'ridiculous': 486,\n",
              " 'shots': 487,\n",
              " 'hero': 488,\n",
              " 'age': 489,\n",
              " 'running': 490,\n",
              " 'brother': 491,\n",
              " 'or': 492,\n",
              " 'started': 493,\n",
              " 'ends': 494,\n",
              " 'view': 495,\n",
              " 'major': 496,\n",
              " 'female': 497,\n",
              " 'usual': 498,\n",
              " 'taking': 499,\n",
              " 'body': 500,\n",
              " 'more': 501,\n",
              " 'opinion': 502,\n",
              " 'change': 503,\n",
              " 'was': 504,\n",
              " 'important': 505,\n",
              " 'documentary': 506,\n",
              " 'somewhat': 507,\n",
              " 'knew': 508,\n",
              " 'scary': 509,\n",
              " 'power': 510,\n",
              " 'silly': 511,\n",
              " 'knows': 512,\n",
              " 'words': 513,\n",
              " 'disappointed': 514,\n",
              " 'apparently': 515,\n",
              " 'turned': 516,\n",
              " 'novel': 517,\n",
              " 'husband': 518,\n",
              " 'directors': 519,\n",
              " 'rating': 520,\n",
              " 'strange': 521,\n",
              " 'finds': 522,\n",
              " 'word': 523,\n",
              " 'basically': 524,\n",
              " 'happy': 525,\n",
              " 'country': 526,\n",
              " 'attention': 527,\n",
              " 'level': 528,\n",
              " 'episodes': 529,\n",
              " 'talking': 530,\n",
              " 'room': 531,\n",
              " 'television': 532,\n",
              " 'musical': 533,\n",
              " 'clearly': 534,\n",
              " 'problems': 535,\n",
              " 'local': 536,\n",
              " 'cheap': 537,\n",
              " 'whats': 538,\n",
              " 'arent': 539,\n",
              " 'jack': 540,\n",
              " 'miss': 541,\n",
              " 'single': 542,\n",
              " 'events': 543,\n",
              " 'though': 544,\n",
              " 'be': 545,\n",
              " 'sequence': 546,\n",
              " 'british': 547,\n",
              " 'tells': 548,\n",
              " 'talk': 549,\n",
              " 'light': 550,\n",
              " 'thriller': 551,\n",
              " 'songs': 552,\n",
              " 'review': 553,\n",
              " 'modern': 554,\n",
              " 'predictable': 555,\n",
              " 'other': 556,\n",
              " 'french': 557,\n",
              " 'dialog': 558,\n",
              " 'add': 559,\n",
              " 'easily': 560,\n",
              " 'sets': 561,\n",
              " 'entertainment': 562,\n",
              " 'future': 563,\n",
              " 'enjoyable': 564,\n",
              " 'appears': 565,\n",
              " 'soundtrack': 566,\n",
              " 'bring': 567,\n",
              " 'much': 568,\n",
              " 'lots': 569,\n",
              " 'havent': 570,\n",
              " 'viewers': 571,\n",
              " 'supporting': 572,\n",
              " 'giving': 573,\n",
              " 'another': 574,\n",
              " 'mention': 575,\n",
              " 'similar': 576,\n",
              " 'earth': 577,\n",
              " 'b': 578,\n",
              " 'falls': 579,\n",
              " 'george': 580,\n",
              " 'hate': 581,\n",
              " 'team': 582,\n",
              " 'message': 583,\n",
              " 'did': 584,\n",
              " 'space': 585,\n",
              " 'storyline': 586,\n",
              " 'needs': 587,\n",
              " 'romantic': 588,\n",
              " 'moving': 589,\n",
              " 'bunch': 590,\n",
              " 'anyway': 591,\n",
              " 'surprised': 592,\n",
              " 'tried': 593,\n",
              " 'clear': 594,\n",
              " 'parents': 595,\n",
              " 'certain': 596,\n",
              " 'showing': 597,\n",
              " 'filmed': 598,\n",
              " 'see': 599,\n",
              " 'dull': 600,\n",
              " 'who': 601,\n",
              " 'most': 602,\n",
              " 'comic': 603,\n",
              " 'sequel': 604,\n",
              " 'an': 605,\n",
              " 'sorry': 606,\n",
              " 'ways': 607,\n",
              " 'theme': 608,\n",
              " 'middle': 609,\n",
              " 'by': 610,\n",
              " 'suspense': 611,\n",
              " 'theater': 612,\n",
              " 'king': 613,\n",
              " 'effort': 614,\n",
              " 'release': 615,\n",
              " 'stay': 616,\n",
              " 'named': 617,\n",
              " 'fall': 618,\n",
              " 'dr': 619,\n",
              " 'monster': 620,\n",
              " 'easy': 621,\n",
              " 'comments': 622,\n",
              " 'gone': 623,\n",
              " 'buy': 624,\n",
              " 'typical': 625,\n",
              " 'near': 626,\n",
              " 'feels': 627,\n",
              " 'deal': 628,\n",
              " 'kept': 629,\n",
              " 'about': 630,\n",
              " 'avoid': 631,\n",
              " 'doubt': 632,\n",
              " 'fantastic': 633,\n",
              " 'greatest': 634,\n",
              " 'working': 635,\n",
              " 'editing': 636,\n",
              " 'die': 637,\n",
              " 'elements': 638,\n",
              " 'subject': 639,\n",
              " 'mystery': 640,\n",
              " 'means': 641,\n",
              " 'nearly': 642,\n",
              " 'tale': 643,\n",
              " 'viewing': 644,\n",
              " 'points': 645,\n",
              " 'imagine': 646,\n",
              " 'these': 647,\n",
              " 'boys': 648,\n",
              " 'richard': 649,\n",
              " 'realistic': 650,\n",
              " 'actual': 651,\n",
              " 'straight': 652,\n",
              " 'us': 653,\n",
              " 'rock': 654,\n",
              " 'peter': 655,\n",
              " 'nothing': 656,\n",
              " 'check': 657,\n",
              " 'sister': 658,\n",
              " 'minute': 659,\n",
              " 'okay': 660,\n",
              " 'brought': 661,\n",
              " 'feature': 662,\n",
              " 'famous': 663,\n",
              " 'lady': 664,\n",
              " 'general': 665,\n",
              " 'begins': 666,\n",
              " 'leads': 667,\n",
              " 'form': 668,\n",
              " 'material': 669,\n",
              " 'made': 670,\n",
              " 'believable': 671,\n",
              " 'forget': 672,\n",
              " 'class': 673,\n",
              " 'th': 674,\n",
              " 'reviews': 675,\n",
              " 'period': 676,\n",
              " 'youve': 677,\n",
              " 'before': 678,\n",
              " 'crime': 679,\n",
              " 'hear': 680,\n",
              " 'rent': 681,\n",
              " 'animation': 682,\n",
              " 'dog': 683,\n",
              " 'surprise': 684,\n",
              " 'weak': 685,\n",
              " 'figure': 686,\n",
              " 'premise': 687,\n",
              " 'sequences': 688,\n",
              " 'atmosphere': 689,\n",
              " 'eventually': 690,\n",
              " 'expected': 691,\n",
              " 'paul': 692,\n",
              " 'wait': 693,\n",
              " 'tom': 694,\n",
              " 'particular': 695,\n",
              " 'eye': 696,\n",
              " 'learn': 697,\n",
              " 'killing': 698,\n",
              " 'sit': 699,\n",
              " 'fast': 700,\n",
              " 'situation': 701,\n",
              " 'scifi': 702,\n",
              " 'very': 703,\n",
              " 'imdb': 704,\n",
              " 'red': 705,\n",
              " 'york': 706,\n",
              " 'whos': 707,\n",
              " 'truth': 708,\n",
              " 'decided': 709,\n",
              " 'shame': 710,\n",
              " 'lame': 711,\n",
              " 'difficult': 712,\n",
              " 'follow': 713,\n",
              " 'average': 714,\n",
              " 'deep': 715,\n",
              " 'season': 716,\n",
              " 'dance': 717,\n",
              " 'poorly': 718,\n",
              " 'leaves': 719,\n",
              " 'possibly': 720,\n",
              " 'needed': 721,\n",
              " 'footage': 722,\n",
              " 'ever': 723,\n",
              " 'forced': 724,\n",
              " 'writers': 725,\n",
              " 'memorable': 726,\n",
              " 'begin': 727,\n",
              " 'romance': 728,\n",
              " 'meet': 729,\n",
              " 'emotional': 730,\n",
              " 'question': 731,\n",
              " 'crew': 732,\n",
              " 'credits': 733,\n",
              " 'oscar': 734,\n",
              " 'note': 735,\n",
              " 'doctor': 736,\n",
              " 'reading': 737,\n",
              " 'society': 738,\n",
              " 'open': 739,\n",
              " 'stand': 740,\n",
              " 'features': 741,\n",
              " 'western': 742,\n",
              " 'hands': 743,\n",
              " 'write': 744,\n",
              " 'gay': 745,\n",
              " 'meets': 746,\n",
              " 'interested': 747,\n",
              " 'cheesy': 748,\n",
              " 'hot': 749,\n",
              " 'screenplay': 750,\n",
              " 'beauty': 751,\n",
              " 'superb': 752,\n",
              " 'sexual': 753,\n",
              " 'nature': 754,\n",
              " 'two': 755,\n",
              " 'filmmakers': 756,\n",
              " 'previous': 757,\n",
              " 'perfectly': 758,\n",
              " 'masterpiece': 759,\n",
              " 'laughs': 760,\n",
              " 'inside': 761,\n",
              " 'effect': 762,\n",
              " 'sounds': 763,\n",
              " 'plus': 764,\n",
              " 'comment': 765,\n",
              " 'total': 766,\n",
              " 'street': 767,\n",
              " 'weird': 768,\n",
              " 'quickly': 769,\n",
              " 'personal': 770,\n",
              " 'island': 771,\n",
              " 'male': 772,\n",
              " 'keeps': 773,\n",
              " 'result': 774,\n",
              " 'only': 775,\n",
              " 'japanese': 776,\n",
              " 'box': 777,\n",
              " 'badly': 778,\n",
              " 'worked': 779,\n",
              " 'background': 780,\n",
              " 'earlier': 781,\n",
              " 'incredibly': 782,\n",
              " 'battle': 783,\n",
              " 'mess': 784,\n",
              " 'america': 785,\n",
              " 'unique': 786,\n",
              " 'crazy': 787,\n",
              " 'setting': 788,\n",
              " 'copy': 789,\n",
              " 'air': 790,\n",
              " 'stage': 791,\n",
              " 'realize': 792,\n",
              " 'older': 793,\n",
              " 'free': 794,\n",
              " 'brings': 795,\n",
              " 'following': 796,\n",
              " 'business': 797,\n",
              " 'mark': 798,\n",
              " 'plenty': 799,\n",
              " 'ask': 800,\n",
              " 'appear': 801,\n",
              " 'lee': 802,\n",
              " 'directing': 803,\n",
              " 'back': 804,\n",
              " 'joe': 805,\n",
              " 'powerful': 806,\n",
              " 'development': 807,\n",
              " 'fairly': 808,\n",
              " 'dumb': 809,\n",
              " 'creepy': 810,\n",
              " 'acted': 811,\n",
              " 'admit': 812,\n",
              " 'dramatic': 813,\n",
              " 'baby': 814,\n",
              " 'reasons': 815,\n",
              " 'off': 816,\n",
              " 'remake': 817,\n",
              " 'portrayed': 818,\n",
              " 'apart': 819,\n",
              " 'outside': 820,\n",
              " 'joke': 821,\n",
              " 'forward': 822,\n",
              " 'fails': 823,\n",
              " 'spent': 824,\n",
              " 'leading': 825,\n",
              " 'rich': 826,\n",
              " 'water': 827,\n",
              " 'deserves': 828,\n",
              " 'pay': 829,\n",
              " 'wasted': 830,\n",
              " 'political': 831,\n",
              " 'still': 832,\n",
              " 'success': 833,\n",
              " 'ideas': 834,\n",
              " 'meant': 835,\n",
              " 'cop': 836,\n",
              " 'girlfriend': 837,\n",
              " 'manages': 838,\n",
              " 'attempts': 839,\n",
              " 'expecting': 840,\n",
              " 'dream': 841,\n",
              " 'missing': 842,\n",
              " 'return': 843,\n",
              " 'either': 844,\n",
              " 'e': 845,\n",
              " 'cover': 846,\n",
              " 'party': 847,\n",
              " 'recently': 848,\n",
              " 'agree': 849,\n",
              " 'twist': 850,\n",
              " 'd': 851,\n",
              " 'yet': 852,\n",
              " 'william': 853,\n",
              " 'create': 854,\n",
              " 'unlike': 855,\n",
              " 'secret': 856,\n",
              " 'really': 857,\n",
              " 'are': 858,\n",
              " 'caught': 859,\n",
              " 'fighting': 860,\n",
              " 'present': 861,\n",
              " 'everything': 862,\n",
              " 'hardly': 863,\n",
              " 'match': 864,\n",
              " 'once': 865,\n",
              " 'members': 866,\n",
              " 'clever': 867,\n",
              " 'large': 868,\n",
              " 'escape': 869,\n",
              " 'brothers': 870,\n",
              " 'potential': 871,\n",
              " 'cute': 872,\n",
              " 'ended': 873,\n",
              " 'laughing': 874,\n",
              " 'odd': 875,\n",
              " 'plain': 876,\n",
              " 'go': 877,\n",
              " 'telling': 878,\n",
              " 'perhaps': 879,\n",
              " 'zombie': 880,\n",
              " 'talented': 881,\n",
              " 'nudity': 882,\n",
              " 'disney': 883,\n",
              " 'fantasy': 884,\n",
              " 'missed': 885,\n",
              " 'pace': 886,\n",
              " 'german': 887,\n",
              " 'era': 888,\n",
              " 'gun': 889,\n",
              " 'pure': 890,\n",
              " 'break': 891,\n",
              " 'created': 892,\n",
              " 'married': 893,\n",
              " 'casting': 894,\n",
              " 'list': 895,\n",
              " 'waiting': 896,\n",
              " 'visual': 897,\n",
              " 'villain': 898,\n",
              " 'hold': 899,\n",
              " 'incredible': 900,\n",
              " 'something': 901,\n",
              " 'italian': 902,\n",
              " 'public': 903,\n",
              " 'considering': 904,\n",
              " 'cause': 905,\n",
              " 'cartoon': 906,\n",
              " 'died': 907,\n",
              " 'van': 908,\n",
              " 'sees': 909,\n",
              " 'slightly': 910,\n",
              " 'familiar': 911,\n",
              " 'bill': 912,\n",
              " 'speak': 913,\n",
              " 'sadly': 914,\n",
              " 'state': 915,\n",
              " 'mentioned': 916,\n",
              " 'uses': 917,\n",
              " 'decides': 918,\n",
              " 'company': 919,\n",
              " 't': 920,\n",
              " 'office': 921,\n",
              " 'produced': 922,\n",
              " 'entirely': 923,\n",
              " 'together': 924,\n",
              " 'popular': 925,\n",
              " 'wrote': 926,\n",
              " 'train': 927,\n",
              " 'credit': 928,\n",
              " 'producers': 929,\n",
              " 'convincing': 930,\n",
              " 'bored': 931,\n",
              " 'tension': 932,\n",
              " 'store': 933,\n",
              " 'portrayal': 934,\n",
              " 'flat': 935,\n",
              " 'follows': 936,\n",
              " 'value': 937,\n",
              " 'appreciate': 938,\n",
              " 'compared': 939,\n",
              " 'fit': 940,\n",
              " 'suddenly': 941,\n",
              " 'moves': 942,\n",
              " 'trouble': 943,\n",
              " 'rate': 944,\n",
              " 'choice': 945,\n",
              " 'audiences': 946,\n",
              " 'younger': 947,\n",
              " 'language': 948,\n",
              " 'alive': 949,\n",
              " 'intelligent': 950,\n",
              " 'sweet': 951,\n",
              " 'common': 952,\n",
              " 'biggest': 953,\n",
              " 'science': 954,\n",
              " 'dancing': 955,\n",
              " 'images': 956,\n",
              " 'fear': 957,\n",
              " 'situations': 958,\n",
              " 'century': 959,\n",
              " 'successful': 960,\n",
              " 'force': 961,\n",
              " 'recommended': 962,\n",
              " 'over': 963,\n",
              " 'violent': 964,\n",
              " 'project': 965,\n",
              " 'la': 966,\n",
              " 'social': 967,\n",
              " 'college': 968,\n",
              " 'concept': 969,\n",
              " 'longer': 970,\n",
              " 'exciting': 971,\n",
              " 'spend': 972,\n",
              " 'every': 973,\n",
              " 'pointless': 974,\n",
              " 'hair': 975,\n",
              " 'amusing': 976,\n",
              " 'cold': 977,\n",
              " 'yeah': 978,\n",
              " 'bizarre': 979,\n",
              " 'pathetic': 980,\n",
              " 'band': 981,\n",
              " 'scott': 982,\n",
              " 'mad': 983,\n",
              " 'decide': 984,\n",
              " 'kills': 985,\n",
              " 'filled': 986,\n",
              " 'ultimately': 987,\n",
              " 'many': 988,\n",
              " 'positive': 989,\n",
              " 'basic': 990,\n",
              " 'recent': 991,\n",
              " 'consider': 992,\n",
              " 'christmas': 993,\n",
              " 'alien': 994,\n",
              " 'effective': 995,\n",
              " 'depth': 996,\n",
              " 'sick': 997,\n",
              " 'books': 998,\n",
              " 'werent': 999,\n",
              " 'jane': 1000,\n",
              " ...}"
            ]
          },
          "metadata": {},
          "execution_count": 12
        }
      ]
    },
    {
      "cell_type": "code",
      "source": [
        "len(tokenizer.word_index)"
      ],
      "metadata": {
        "colab": {
          "base_uri": "https://localhost:8080/"
        },
        "id": "MKybX0bWGfcI",
        "outputId": "d0af8f3f-fe72-4597-81ff-dffaa5fab41c"
      },
      "execution_count": null,
      "outputs": [
        {
          "output_type": "execute_result",
          "data": {
            "text/plain": [
              "148958"
            ]
          },
          "metadata": {},
          "execution_count": 13
        }
      ]
    },
    {
      "cell_type": "code",
      "source": [
        "#### Now we need embeddings for these words\n",
        "## Get the glove vectors\n",
        "embeddings_index= dict()\n",
        "glove= open('/content/glove.6B.100d.txt','r',encoding='utf-8')\n",
        "for line in glove:\n",
        "  values = line.split()\n",
        "  word = values[0]\n",
        "  coefs = np.asarray(values[1:], dtype='float32')\n",
        "  embeddings_index[word] = coefs\n",
        "glove.close()"
      ],
      "metadata": {
        "id": "kmNPHnwmGtFI"
      },
      "execution_count": null,
      "outputs": []
    },
    {
      "cell_type": "code",
      "source": [
        "len(embeddings_index)"
      ],
      "metadata": {
        "colab": {
          "base_uri": "https://localhost:8080/"
        },
        "id": "PdCV_BvCF2us",
        "outputId": "74417719-4665-4183-8216-993261879a48"
      },
      "execution_count": null,
      "outputs": [
        {
          "output_type": "execute_result",
          "data": {
            "text/plain": [
              "252338"
            ]
          },
          "metadata": {},
          "execution_count": 15
        }
      ]
    },
    {
      "cell_type": "code",
      "source": [
        "### Create an embedding matrix for the vocabulary created for the reviews\n",
        "vocab= len(tokenizer.word_index)+1\n",
        "embedding_matrix = np.zeros((vocab, 100))\n",
        "for word, i in tokenizer.word_index.items():\n",
        "    embedding_vector = embeddings_index.get(word)\n",
        "    if embedding_vector is not None:\n",
        "        embedding_matrix[i] = embedding_vector"
      ],
      "metadata": {
        "id": "Eb3j15KsIhe9"
      },
      "execution_count": null,
      "outputs": []
    },
    {
      "cell_type": "code",
      "source": [
        "embedding_matrix.shape"
      ],
      "metadata": {
        "colab": {
          "base_uri": "https://localhost:8080/"
        },
        "id": "Q15vBdArIj_A",
        "outputId": "5c5778bb-9b3b-4e49-ed6e-c3bdc77f027e"
      },
      "execution_count": null,
      "outputs": [
        {
          "output_type": "execute_result",
          "data": {
            "text/plain": [
              "(148959, 100)"
            ]
          },
          "metadata": {},
          "execution_count": 17
        }
      ]
    },
    {
      "cell_type": "code",
      "source": [
        "embedding_matrix[90]"
      ],
      "metadata": {
        "colab": {
          "base_uri": "https://localhost:8080/"
        },
        "id": "Ja_xvqZRImbd",
        "outputId": "dab9cddb-0bda-4f37-e844-0a9afb8b21ef"
      },
      "execution_count": null,
      "outputs": [
        {
          "output_type": "execute_result",
          "data": {
            "text/plain": [
              "array([-0.53086001,  0.51403999,  0.087599  , -0.37314001,  0.27469999,\n",
              "        0.07947   , -0.0085023 ,  0.028399  , -0.35113999,  0.094339  ,\n",
              "        0.087771  , -0.38306999,  0.43129   ,  0.15261   , -0.1512    ,\n",
              "       -0.46070001,  0.080433  ,  0.037627  , -0.43959001,  0.42451   ,\n",
              "        0.16057999,  0.26607999,  0.35310999,  0.014055  , -0.052771  ,\n",
              "       -0.16150001, -0.29899999, -0.56213999, -0.18742   ,  0.044237  ,\n",
              "       -0.28117999,  0.36594   , -0.26225999,  0.11013   ,  0.44358   ,\n",
              "        0.43131   , -0.0053095 ,  0.34705001, -0.44883001, -0.33726999,\n",
              "       -0.13281   , -0.35541999, -0.081663  , -0.12983   ,  0.080606  ,\n",
              "       -0.161     ,  0.36700001, -0.30568001,  0.057269  , -0.79400003,\n",
              "       -0.24581   ,  0.027115  ,  0.13203   ,  1.22619998, -0.19182999,\n",
              "       -2.54970002,  0.055273  , -0.13779999,  1.45519996,  0.53697002,\n",
              "       -0.12337   ,  1.12779999, -0.16365001,  0.21871001,  0.82735002,\n",
              "       -0.30680999,  0.65456003,  0.17636   ,  0.61720002, -0.18425   ,\n",
              "       -0.029966  , -0.098315  ,  0.32056001, -0.28123999,  0.25683999,\n",
              "       -0.034462  , -0.12967999,  0.1944    , -0.42318001, -0.12842999,\n",
              "        0.84728998,  0.17806999, -0.39679   ,  0.29828   , -1.73370004,\n",
              "       -0.037541  , -0.02989   , -0.14391001, -0.33298999, -0.52234   ,\n",
              "       -0.12178   , -0.2509    , -0.17904   ,  0.049504  , -0.62184   ,\n",
              "        0.20902   , -0.55804998, -0.55396998,  0.56137002,  0.39822   ])"
            ]
          },
          "metadata": {},
          "execution_count": 18
        }
      ]
    },
    {
      "cell_type": "code",
      "source": [
        "train_indices=tokenizer.texts_to_sequences(train_text)"
      ],
      "metadata": {
        "id": "UEDWBScuIrrv"
      },
      "execution_count": null,
      "outputs": []
    },
    {
      "cell_type": "code",
      "source": [
        "train_indices[0:3]"
      ],
      "metadata": {
        "colab": {
          "base_uri": "https://localhost:8080/"
        },
        "id": "eysTHMQkIunz",
        "outputId": "701f96e9-cff5-4f21-86b2-d8788c5f6afd"
      },
      "execution_count": null,
      "outputs": [
        {
          "output_type": "execute_result",
          "data": {
            "text/plain": [
              "[[62,\n",
              "  1842,\n",
              "  916,\n",
              "  46,\n",
              "  2936,\n",
              "  255,\n",
              "  329,\n",
              "  3035,\n",
              "  88,\n",
              "  84,\n",
              "  458,\n",
              "  435,\n",
              "  202,\n",
              "  3,\n",
              "  47,\n",
              "  3155,\n",
              "  2936,\n",
              "  1,\n",
              "  1,\n",
              "  42,\n",
              "  429,\n",
              "  150,\n",
              "  84,\n",
              "  523,\n",
              "  877,\n",
              "  1585,\n",
              "  1,\n",
              "  1,\n",
              "  1,\n",
              "  8,\n",
              "  2406,\n",
              "  1,\n",
              "  1,\n",
              "  1300,\n",
              "  248,\n",
              "  429,\n",
              "  24,\n",
              "  3253,\n",
              "  216,\n",
              "  213,\n",
              "  523,\n",
              "  6,\n",
              "  336,\n",
              "  2936,\n",
              "  1,\n",
              "  212,\n",
              "  1,\n",
              "  1,\n",
              "  2455,\n",
              "  915,\n",
              "  1,\n",
              "  6,\n",
              "  2579,\n",
              "  1247,\n",
              "  1,\n",
              "  388,\n",
              "  4469,\n",
              "  2363,\n",
              "  1046,\n",
              "  1,\n",
              "  2821,\n",
              "  1,\n",
              "  262,\n",
              "  1,\n",
              "  1,\n",
              "  185,\n",
              "  4831,\n",
              "  3481,\n",
              "  388,\n",
              "  206,\n",
              "  988,\n",
              "  1,\n",
              "  1,\n",
              "  1,\n",
              "  1,\n",
              "  4988,\n",
              "  1,\n",
              "  2330,\n",
              "  501,\n",
              "  83,\n",
              "  1,\n",
              "  188,\n",
              "  1,\n",
              "  1,\n",
              "  1,\n",
              "  1,\n",
              "  1,\n",
              "  106,\n",
              "  113,\n",
              "  2,\n",
              "  144,\n",
              "  1164,\n",
              "  75,\n",
              "  133,\n",
              "  126,\n",
              "  416,\n",
              "  2888,\n",
              "  672,\n",
              "  69,\n",
              "  1118,\n",
              "  4223,\n",
              "  2384,\n",
              "  946,\n",
              "  672,\n",
              "  1268,\n",
              "  672,\n",
              "  728,\n",
              "  2936,\n",
              "  50,\n",
              "  784,\n",
              "  1548,\n",
              "  3,\n",
              "  255,\n",
              "  2,\n",
              "  93,\n",
              "  3155,\n",
              "  1456,\n",
              "  2089,\n",
              "  2,\n",
              "  2,\n",
              "  1433,\n",
              "  2,\n",
              "  149,\n",
              "  2,\n",
              "  1347,\n",
              "  1111,\n",
              "  2936,\n",
              "  74,\n",
              "  1,\n",
              "  185,\n",
              "  1886,\n",
              "  1999,\n",
              "  429,\n",
              "  82,\n",
              "  429,\n",
              "  1,\n",
              "  1,\n",
              "  4697,\n",
              "  1,\n",
              "  2866,\n",
              "  1,\n",
              "  1,\n",
              "  1,\n",
              "  357,\n",
              "  480,\n",
              "  113,\n",
              "  1,\n",
              "  609,\n",
              "  673,\n",
              "  1,\n",
              "  516,\n",
              "  1046,\n",
              "  1,\n",
              "  417,\n",
              "  767,\n",
              "  1816,\n",
              "  1046,\n",
              "  400,\n",
              "  46,\n",
              "  2936,\n",
              "  3643,\n",
              "  3110,\n",
              "  644,\n",
              "  65,\n",
              "  1064,\n",
              "  3897,\n",
              "  2439],\n",
              " [26,\n",
              "  252,\n",
              "  34,\n",
              "  221,\n",
              "  3,\n",
              "  1199,\n",
              "  2804,\n",
              "  1,\n",
              "  1,\n",
              "  1462,\n",
              "  263,\n",
              "  1,\n",
              "  1,\n",
              "  145,\n",
              "  1724,\n",
              "  291,\n",
              "  270,\n",
              "  3,\n",
              "  49,\n",
              "  410,\n",
              "  2149,\n",
              "  361,\n",
              "  4406,\n",
              "  2385,\n",
              "  74,\n",
              "  1,\n",
              "  2102,\n",
              "  3137,\n",
              "  63,\n",
              "  222,\n",
              "  1,\n",
              "  636,\n",
              "  1,\n",
              "  1652,\n",
              "  1556,\n",
              "  1,\n",
              "  1,\n",
              "  140,\n",
              "  46,\n",
              "  1,\n",
              "  293,\n",
              "  2225,\n",
              "  270,\n",
              "  26,\n",
              "  4184,\n",
              "  221,\n",
              "  13,\n",
              "  3083,\n",
              "  86,\n",
              "  35,\n",
              "  3,\n",
              "  1724,\n",
              "  134,\n",
              "  206,\n",
              "  34,\n",
              "  66,\n",
              "  884,\n",
              "  2871,\n",
              "  213,\n",
              "  2040,\n",
              "  841,\n",
              "  2971,\n",
              "  1108,\n",
              "  1011,\n",
              "  4779,\n",
              "  6,\n",
              "  158,\n",
              "  1681,\n",
              "  4313,\n",
              "  436,\n",
              "  42,\n",
              "  3482,\n",
              "  1,\n",
              "  1,\n",
              "  561,\n",
              "  436,\n",
              "  935,\n",
              "  1,\n",
              "  1,\n",
              "  1,\n",
              "  2132,\n",
              "  1796,\n",
              "  1153],\n",
              " [2,\n",
              "  80,\n",
              "  252,\n",
              "  19,\n",
              "  972,\n",
              "  10,\n",
              "  749,\n",
              "  1308,\n",
              "  2339,\n",
              "  1065,\n",
              "  790,\n",
              "  1,\n",
              "  612,\n",
              "  46,\n",
              "  3898,\n",
              "  86,\n",
              "  3,\n",
              "  31,\n",
              "  3866,\n",
              "  266,\n",
              "  1733,\n",
              "  21,\n",
              "  1318,\n",
              "  1,\n",
              "  1,\n",
              "  1429,\n",
              "  356,\n",
              "  273,\n",
              "  514,\n",
              "  792,\n",
              "  864,\n",
              "  102,\n",
              "  2805,\n",
              "  4961,\n",
              "  2,\n",
              "  80,\n",
              "  2905,\n",
              "  2787,\n",
              "  1877,\n",
              "  1257,\n",
              "  1012,\n",
              "  289,\n",
              "  2217,\n",
              "  29,\n",
              "  8,\n",
              "  321,\n",
              "  1271,\n",
              "  1,\n",
              "  1154,\n",
              "  51,\n",
              "  2888,\n",
              "  2,\n",
              "  1934,\n",
              "  273,\n",
              "  81,\n",
              "  1336,\n",
              "  1,\n",
              "  1,\n",
              "  1140,\n",
              "  1092,\n",
              "  1095,\n",
              "  1272,\n",
              "  4911,\n",
              "  84,\n",
              "  714,\n",
              "  4962,\n",
              "  73,\n",
              "  122,\n",
              "  8,\n",
              "  1,\n",
              "  4935,\n",
              "  476,\n",
              "  1,\n",
              "  2114,\n",
              "  2739,\n",
              "  1,\n",
              "  99,\n",
              "  2440,\n",
              "  13,\n",
              "  86,\n",
              "  196]]"
            ]
          },
          "metadata": {},
          "execution_count": 20
        }
      ]
    },
    {
      "cell_type": "code",
      "source": [
        "## As mentioned we are limiting the number of words say 64\n",
        "from tensorflow.keras.preprocessing.sequence import pad_sequences\n",
        "max_length=64\n",
        "train_indices=pad_sequences(train_indices,maxlen=max_length,padding='post')"
      ],
      "metadata": {
        "id": "aaoKvdn4Iy3J"
      },
      "execution_count": null,
      "outputs": []
    },
    {
      "cell_type": "code",
      "source": [
        "### Creating the model architecture\n",
        "model= Sequential()\n",
        "model.add(Embedding(input_dim=vocab,output_dim=100,input_length=max_length,weights=[embedding_matrix],trainable=False))\n",
        "model.add(LSTM(32))\n",
        "model.add(Dense(1, activation='sigmoid'))\n",
        "model.compile(loss='binary_crossentropy', optimizer='adam', metrics=['accuracy'])\n",
        "print(model.summary())\n"
      ],
      "metadata": {
        "colab": {
          "base_uri": "https://localhost:8080/",
          "height": 309
        },
        "id": "Cx6WD1oVI14o",
        "outputId": "3e72588e-fdb8-41d0-b0ee-a069d1b11a12"
      },
      "execution_count": null,
      "outputs": [
        {
          "output_type": "stream",
          "name": "stderr",
          "text": [
            "/usr/local/lib/python3.11/dist-packages/keras/src/layers/core/embedding.py:90: UserWarning: Argument `input_length` is deprecated. Just remove it.\n",
            "  warnings.warn(\n"
          ]
        },
        {
          "output_type": "display_data",
          "data": {
            "text/plain": [
              "\u001b[1mModel: \"sequential\"\u001b[0m\n"
            ],
            "text/html": [
              "<pre style=\"white-space:pre;overflow-x:auto;line-height:normal;font-family:Menlo,'DejaVu Sans Mono',consolas,'Courier New',monospace\"><span style=\"font-weight: bold\">Model: \"sequential\"</span>\n",
              "</pre>\n"
            ]
          },
          "metadata": {}
        },
        {
          "output_type": "display_data",
          "data": {
            "text/plain": [
              "┏━━━━━━━━━━━━━━━━━━━━━━━━━━━━━━━━━━━━━━┳━━━━━━━━━━━━━━━━━━━━━━━━━━━━━┳━━━━━━━━━━━━━━━━━┓\n",
              "┃\u001b[1m \u001b[0m\u001b[1mLayer (type)                        \u001b[0m\u001b[1m \u001b[0m┃\u001b[1m \u001b[0m\u001b[1mOutput Shape               \u001b[0m\u001b[1m \u001b[0m┃\u001b[1m \u001b[0m\u001b[1m        Param #\u001b[0m\u001b[1m \u001b[0m┃\n",
              "┡━━━━━━━━━━━━━━━━━━━━━━━━━━━━━━━━━━━━━━╇━━━━━━━━━━━━━━━━━━━━━━━━━━━━━╇━━━━━━━━━━━━━━━━━┩\n",
              "│ embedding (\u001b[38;5;33mEmbedding\u001b[0m)                │ ?                           │      \u001b[38;5;34m14,895,900\u001b[0m │\n",
              "├──────────────────────────────────────┼─────────────────────────────┼─────────────────┤\n",
              "│ lstm (\u001b[38;5;33mLSTM\u001b[0m)                          │ ?                           │     \u001b[38;5;34m0\u001b[0m (unbuilt) │\n",
              "├──────────────────────────────────────┼─────────────────────────────┼─────────────────┤\n",
              "│ dense (\u001b[38;5;33mDense\u001b[0m)                        │ ?                           │     \u001b[38;5;34m0\u001b[0m (unbuilt) │\n",
              "└──────────────────────────────────────┴─────────────────────────────┴─────────────────┘\n"
            ],
            "text/html": [
              "<pre style=\"white-space:pre;overflow-x:auto;line-height:normal;font-family:Menlo,'DejaVu Sans Mono',consolas,'Courier New',monospace\">┏━━━━━━━━━━━━━━━━━━━━━━━━━━━━━━━━━━━━━━┳━━━━━━━━━━━━━━━━━━━━━━━━━━━━━┳━━━━━━━━━━━━━━━━━┓\n",
              "┃<span style=\"font-weight: bold\"> Layer (type)                         </span>┃<span style=\"font-weight: bold\"> Output Shape                </span>┃<span style=\"font-weight: bold\">         Param # </span>┃\n",
              "┡━━━━━━━━━━━━━━━━━━━━━━━━━━━━━━━━━━━━━━╇━━━━━━━━━━━━━━━━━━━━━━━━━━━━━╇━━━━━━━━━━━━━━━━━┩\n",
              "│ embedding (<span style=\"color: #0087ff; text-decoration-color: #0087ff\">Embedding</span>)                │ ?                           │      <span style=\"color: #00af00; text-decoration-color: #00af00\">14,895,900</span> │\n",
              "├──────────────────────────────────────┼─────────────────────────────┼─────────────────┤\n",
              "│ lstm (<span style=\"color: #0087ff; text-decoration-color: #0087ff\">LSTM</span>)                          │ ?                           │     <span style=\"color: #00af00; text-decoration-color: #00af00\">0</span> (unbuilt) │\n",
              "├──────────────────────────────────────┼─────────────────────────────┼─────────────────┤\n",
              "│ dense (<span style=\"color: #0087ff; text-decoration-color: #0087ff\">Dense</span>)                        │ ?                           │     <span style=\"color: #00af00; text-decoration-color: #00af00\">0</span> (unbuilt) │\n",
              "└──────────────────────────────────────┴─────────────────────────────┴─────────────────┘\n",
              "</pre>\n"
            ]
          },
          "metadata": {}
        },
        {
          "output_type": "display_data",
          "data": {
            "text/plain": [
              "\u001b[1m Total params: \u001b[0m\u001b[38;5;34m14,895,900\u001b[0m (56.82 MB)\n"
            ],
            "text/html": [
              "<pre style=\"white-space:pre;overflow-x:auto;line-height:normal;font-family:Menlo,'DejaVu Sans Mono',consolas,'Courier New',monospace\"><span style=\"font-weight: bold\"> Total params: </span><span style=\"color: #00af00; text-decoration-color: #00af00\">14,895,900</span> (56.82 MB)\n",
              "</pre>\n"
            ]
          },
          "metadata": {}
        },
        {
          "output_type": "display_data",
          "data": {
            "text/plain": [
              "\u001b[1m Trainable params: \u001b[0m\u001b[38;5;34m0\u001b[0m (0.00 B)\n"
            ],
            "text/html": [
              "<pre style=\"white-space:pre;overflow-x:auto;line-height:normal;font-family:Menlo,'DejaVu Sans Mono',consolas,'Courier New',monospace\"><span style=\"font-weight: bold\"> Trainable params: </span><span style=\"color: #00af00; text-decoration-color: #00af00\">0</span> (0.00 B)\n",
              "</pre>\n"
            ]
          },
          "metadata": {}
        },
        {
          "output_type": "display_data",
          "data": {
            "text/plain": [
              "\u001b[1m Non-trainable params: \u001b[0m\u001b[38;5;34m14,895,900\u001b[0m (56.82 MB)\n"
            ],
            "text/html": [
              "<pre style=\"white-space:pre;overflow-x:auto;line-height:normal;font-family:Menlo,'DejaVu Sans Mono',consolas,'Courier New',monospace\"><span style=\"font-weight: bold\"> Non-trainable params: </span><span style=\"color: #00af00; text-decoration-color: #00af00\">14,895,900</span> (56.82 MB)\n",
              "</pre>\n"
            ]
          },
          "metadata": {}
        },
        {
          "output_type": "stream",
          "name": "stdout",
          "text": [
            "None\n"
          ]
        }
      ]
    },
    {
      "cell_type": "code",
      "source": [
        "review_data['sentiment'].value_counts()"
      ],
      "metadata": {
        "colab": {
          "base_uri": "https://localhost:8080/",
          "height": 178
        },
        "id": "wQpuXvJ0I5AV",
        "outputId": "21980f61-13d1-4234-9ec1-7ee7fc7fd234"
      },
      "execution_count": null,
      "outputs": [
        {
          "output_type": "execute_result",
          "data": {
            "text/plain": [
              "sentiment\n",
              "positive    25000\n",
              "negative    25000\n",
              "Name: count, dtype: int64"
            ],
            "text/html": [
              "<div>\n",
              "<style scoped>\n",
              "    .dataframe tbody tr th:only-of-type {\n",
              "        vertical-align: middle;\n",
              "    }\n",
              "\n",
              "    .dataframe tbody tr th {\n",
              "        vertical-align: top;\n",
              "    }\n",
              "\n",
              "    .dataframe thead th {\n",
              "        text-align: right;\n",
              "    }\n",
              "</style>\n",
              "<table border=\"1\" class=\"dataframe\">\n",
              "  <thead>\n",
              "    <tr style=\"text-align: right;\">\n",
              "      <th></th>\n",
              "      <th>count</th>\n",
              "    </tr>\n",
              "    <tr>\n",
              "      <th>sentiment</th>\n",
              "      <th></th>\n",
              "    </tr>\n",
              "  </thead>\n",
              "  <tbody>\n",
              "    <tr>\n",
              "      <th>positive</th>\n",
              "      <td>25000</td>\n",
              "    </tr>\n",
              "    <tr>\n",
              "      <th>negative</th>\n",
              "      <td>25000</td>\n",
              "    </tr>\n",
              "  </tbody>\n",
              "</table>\n",
              "</div><br><label><b>dtype:</b> int64</label>"
            ]
          },
          "metadata": {},
          "execution_count": 23
        }
      ]
    },
    {
      "cell_type": "code",
      "source": [
        "review_data['sentiment'].replace(['positive','negative'],[1,0],inplace=True)\n",
        "review_data['sentiment'].value_counts()"
      ],
      "metadata": {
        "colab": {
          "base_uri": "https://localhost:8080/",
          "height": 364
        },
        "id": "RzvAIg43I7V6",
        "outputId": "295b95ea-1e51-44b0-d28f-9f7706c37f08"
      },
      "execution_count": null,
      "outputs": [
        {
          "output_type": "stream",
          "name": "stderr",
          "text": [
            "<ipython-input-24-528c840d9186>:1: FutureWarning: A value is trying to be set on a copy of a DataFrame or Series through chained assignment using an inplace method.\n",
            "The behavior will change in pandas 3.0. This inplace method will never work because the intermediate object on which we are setting values always behaves as a copy.\n",
            "\n",
            "For example, when doing 'df[col].method(value, inplace=True)', try using 'df.method({col: value}, inplace=True)' or df[col] = df[col].method(value) instead, to perform the operation inplace on the original object.\n",
            "\n",
            "\n",
            "  review_data['sentiment'].replace(['positive','negative'],[1,0],inplace=True)\n",
            "<ipython-input-24-528c840d9186>:1: FutureWarning: Downcasting behavior in `replace` is deprecated and will be removed in a future version. To retain the old behavior, explicitly call `result.infer_objects(copy=False)`. To opt-in to the future behavior, set `pd.set_option('future.no_silent_downcasting', True)`\n",
            "  review_data['sentiment'].replace(['positive','negative'],[1,0],inplace=True)\n"
          ]
        },
        {
          "output_type": "execute_result",
          "data": {
            "text/plain": [
              "sentiment\n",
              "1    25000\n",
              "0    25000\n",
              "Name: count, dtype: int64"
            ],
            "text/html": [
              "<div>\n",
              "<style scoped>\n",
              "    .dataframe tbody tr th:only-of-type {\n",
              "        vertical-align: middle;\n",
              "    }\n",
              "\n",
              "    .dataframe tbody tr th {\n",
              "        vertical-align: top;\n",
              "    }\n",
              "\n",
              "    .dataframe thead th {\n",
              "        text-align: right;\n",
              "    }\n",
              "</style>\n",
              "<table border=\"1\" class=\"dataframe\">\n",
              "  <thead>\n",
              "    <tr style=\"text-align: right;\">\n",
              "      <th></th>\n",
              "      <th>count</th>\n",
              "    </tr>\n",
              "    <tr>\n",
              "      <th>sentiment</th>\n",
              "      <th></th>\n",
              "    </tr>\n",
              "  </thead>\n",
              "  <tbody>\n",
              "    <tr>\n",
              "      <th>1</th>\n",
              "      <td>25000</td>\n",
              "    </tr>\n",
              "    <tr>\n",
              "      <th>0</th>\n",
              "      <td>25000</td>\n",
              "    </tr>\n",
              "  </tbody>\n",
              "</table>\n",
              "</div><br><label><b>dtype:</b> int64</label>"
            ]
          },
          "metadata": {},
          "execution_count": 24
        }
      ]
    },
    {
      "cell_type": "code",
      "source": [
        "Y=list(review_data['sentiment'])\n",
        "train_y=Y[:len(Y)-500]\n",
        "test_y=Y[-500:]\n",
        "print(len(train_y),len(test_y))"
      ],
      "metadata": {
        "colab": {
          "base_uri": "https://localhost:8080/"
        },
        "id": "g8hBH5lEI-Pv",
        "outputId": "55c4b8c0-8e16-47df-89ee-f7072943aba8"
      },
      "execution_count": null,
      "outputs": [
        {
          "output_type": "stream",
          "name": "stdout",
          "text": [
            "49500 500\n"
          ]
        }
      ]
    },
    {
      "cell_type": "code",
      "source": [
        "train_indices=np.asarray(train_indices)\n",
        "train_y=np.asarray(train_y)"
      ],
      "metadata": {
        "id": "2blqvJceJA-3"
      },
      "execution_count": null,
      "outputs": []
    },
    {
      "cell_type": "code",
      "source": [
        "train_indices[1]"
      ],
      "metadata": {
        "colab": {
          "base_uri": "https://localhost:8080/"
        },
        "id": "cBKO9-H4JD_4",
        "outputId": "b473ed61-f0ef-4831-bf78-7dd3ab1c5a9e"
      },
      "execution_count": null,
      "outputs": [
        {
          "output_type": "execute_result",
          "data": {
            "text/plain": [
              "array([ 410, 2149,  361, 4406, 2385,   74,    1, 2102, 3137,   63,  222,\n",
              "          1,  636,    1, 1652, 1556,    1,    1,  140,   46,    1,  293,\n",
              "       2225,  270,   26, 4184,  221,   13, 3083,   86,   35,    3, 1724,\n",
              "        134,  206,   34,   66,  884, 2871,  213, 2040,  841, 2971, 1108,\n",
              "       1011, 4779,    6,  158, 1681, 4313,  436,   42, 3482,    1,    1,\n",
              "        561,  436,  935,    1,    1,    1, 2132, 1796, 1153], dtype=int32)"
            ]
          },
          "metadata": {},
          "execution_count": 27
        }
      ]
    },
    {
      "cell_type": "code",
      "source": [
        "model.fit(train_indices,train_y,batch_size=32,epochs=10)"
      ],
      "metadata": {
        "colab": {
          "base_uri": "https://localhost:8080/"
        },
        "id": "IYzxUccLJG4h",
        "outputId": "20c26a5a-17cf-42bc-ffe0-f7f0a20fce50"
      },
      "execution_count": null,
      "outputs": [
        {
          "output_type": "stream",
          "name": "stdout",
          "text": [
            "Epoch 1/10\n",
            "\u001b[1m1547/1547\u001b[0m \u001b[32m━━━━━━━━━━━━━━━━━━━━\u001b[0m\u001b[37m\u001b[0m \u001b[1m16s\u001b[0m 7ms/step - accuracy: 0.7410 - loss: 0.5185\n",
            "Epoch 2/10\n",
            "\u001b[1m1547/1547\u001b[0m \u001b[32m━━━━━━━━━━━━━━━━━━━━\u001b[0m\u001b[37m\u001b[0m \u001b[1m10s\u001b[0m 7ms/step - accuracy: 0.8240 - loss: 0.3948\n",
            "Epoch 3/10\n",
            "\u001b[1m1547/1547\u001b[0m \u001b[32m━━━━━━━━━━━━━━━━━━━━\u001b[0m\u001b[37m\u001b[0m \u001b[1m20s\u001b[0m 7ms/step - accuracy: 0.8421 - loss: 0.3556\n",
            "Epoch 4/10\n",
            "\u001b[1m1547/1547\u001b[0m \u001b[32m━━━━━━━━━━━━━━━━━━━━\u001b[0m\u001b[37m\u001b[0m \u001b[1m10s\u001b[0m 7ms/step - accuracy: 0.8512 - loss: 0.3386\n",
            "Epoch 5/10\n",
            "\u001b[1m1547/1547\u001b[0m \u001b[32m━━━━━━━━━━━━━━━━━━━━\u001b[0m\u001b[37m\u001b[0m \u001b[1m20s\u001b[0m 6ms/step - accuracy: 0.8576 - loss: 0.3239\n",
            "Epoch 6/10\n",
            "\u001b[1m1547/1547\u001b[0m \u001b[32m━━━━━━━━━━━━━━━━━━━━\u001b[0m\u001b[37m\u001b[0m \u001b[1m10s\u001b[0m 7ms/step - accuracy: 0.8666 - loss: 0.3080\n",
            "Epoch 7/10\n",
            "\u001b[1m1547/1547\u001b[0m \u001b[32m━━━━━━━━━━━━━━━━━━━━\u001b[0m\u001b[37m\u001b[0m \u001b[1m10s\u001b[0m 6ms/step - accuracy: 0.8724 - loss: 0.2951\n",
            "Epoch 8/10\n",
            "\u001b[1m1547/1547\u001b[0m \u001b[32m━━━━━━━━━━━━━━━━━━━━\u001b[0m\u001b[37m\u001b[0m \u001b[1m10s\u001b[0m 6ms/step - accuracy: 0.8786 - loss: 0.2848\n",
            "Epoch 9/10\n",
            "\u001b[1m1547/1547\u001b[0m \u001b[32m━━━━━━━━━━━━━━━━━━━━\u001b[0m\u001b[37m\u001b[0m \u001b[1m10s\u001b[0m 6ms/step - accuracy: 0.8804 - loss: 0.2785\n",
            "Epoch 10/10\n",
            "\u001b[1m1547/1547\u001b[0m \u001b[32m━━━━━━━━━━━━━━━━━━━━\u001b[0m\u001b[37m\u001b[0m \u001b[1m9s\u001b[0m 6ms/step - accuracy: 0.8880 - loss: 0.2658\n"
          ]
        },
        {
          "output_type": "execute_result",
          "data": {
            "text/plain": [
              "<keras.src.callbacks.history.History at 0x7b5586430b10>"
            ]
          },
          "metadata": {},
          "execution_count": 28
        }
      ]
    },
    {
      "cell_type": "code",
      "source": [
        "test_indices=tokenizer.texts_to_sequences(test_text)\n",
        "test_indices=pad_sequences(test_indices,maxlen=max_length,padding='post')\n",
        "\n",
        "test_indices=np.asarray(test_indices)\n",
        "test_y=np.asarray(test_y)"
      ],
      "metadata": {
        "id": "SQWKKRqkJKJ5"
      },
      "execution_count": null,
      "outputs": []
    },
    {
      "cell_type": "code",
      "source": [
        "# Final evaluation of the model\n",
        "scores = model.evaluate(test_indices, test_y, verbose=0)\n",
        "print(\"Accuracy: %.2f%%\" % (scores[1]*100))"
      ],
      "metadata": {
        "colab": {
          "base_uri": "https://localhost:8080/"
        },
        "id": "nll_VKKjJvMK",
        "outputId": "1d09f432-4219-4fb5-cb46-b2f69973dd24"
      },
      "execution_count": null,
      "outputs": [
        {
          "output_type": "stream",
          "name": "stdout",
          "text": [
            "Accuracy: 83.20%\n"
          ]
        }
      ]
    },
    {
      "cell_type": "code",
      "source": [
        "scores"
      ],
      "metadata": {
        "colab": {
          "base_uri": "https://localhost:8080/"
        },
        "id": "OgCf8rAOJxyN",
        "outputId": "bffbd3d5-f4dc-4ee3-b15a-05013adf9bcb"
      },
      "execution_count": null,
      "outputs": [
        {
          "output_type": "execute_result",
          "data": {
            "text/plain": [
              "[0.4029068648815155, 0.8320000171661377]"
            ]
          },
          "metadata": {},
          "execution_count": 31
        }
      ]
    },
    {
      "cell_type": "code",
      "source": [
        "## Creating the model architecture\n",
        "model= Sequential()\n",
        "model.add(Embedding(input_dim=vocab,output_dim=100,input_length=max_length,weights=[embedding_matrix],trainable=False))\n",
        "model.add(SimpleRNN(32))\n",
        "model.add(Dense(1, activation='sigmoid'))\n",
        "model.compile(loss='binary_crossentropy', optimizer='adam', metrics=['accuracy'])\n",
        "print(model.summary())"
      ],
      "metadata": {
        "colab": {
          "base_uri": "https://localhost:8080/",
          "height": 309
        },
        "id": "3O26D8peJ0vF",
        "outputId": "ceef8078-c145-4e0b-fc1a-c50703932d41"
      },
      "execution_count": null,
      "outputs": [
        {
          "output_type": "stream",
          "name": "stderr",
          "text": [
            "/usr/local/lib/python3.11/dist-packages/keras/src/layers/core/embedding.py:90: UserWarning: Argument `input_length` is deprecated. Just remove it.\n",
            "  warnings.warn(\n"
          ]
        },
        {
          "output_type": "display_data",
          "data": {
            "text/plain": [
              "\u001b[1mModel: \"sequential_1\"\u001b[0m\n"
            ],
            "text/html": [
              "<pre style=\"white-space:pre;overflow-x:auto;line-height:normal;font-family:Menlo,'DejaVu Sans Mono',consolas,'Courier New',monospace\"><span style=\"font-weight: bold\">Model: \"sequential_1\"</span>\n",
              "</pre>\n"
            ]
          },
          "metadata": {}
        },
        {
          "output_type": "display_data",
          "data": {
            "text/plain": [
              "┏━━━━━━━━━━━━━━━━━━━━━━━━━━━━━━━━━━━━━━┳━━━━━━━━━━━━━━━━━━━━━━━━━━━━━┳━━━━━━━━━━━━━━━━━┓\n",
              "┃\u001b[1m \u001b[0m\u001b[1mLayer (type)                        \u001b[0m\u001b[1m \u001b[0m┃\u001b[1m \u001b[0m\u001b[1mOutput Shape               \u001b[0m\u001b[1m \u001b[0m┃\u001b[1m \u001b[0m\u001b[1m        Param #\u001b[0m\u001b[1m \u001b[0m┃\n",
              "┡━━━━━━━━━━━━━━━━━━━━━━━━━━━━━━━━━━━━━━╇━━━━━━━━━━━━━━━━━━━━━━━━━━━━━╇━━━━━━━━━━━━━━━━━┩\n",
              "│ embedding_1 (\u001b[38;5;33mEmbedding\u001b[0m)              │ ?                           │      \u001b[38;5;34m14,895,900\u001b[0m │\n",
              "├──────────────────────────────────────┼─────────────────────────────┼─────────────────┤\n",
              "│ simple_rnn (\u001b[38;5;33mSimpleRNN\u001b[0m)               │ ?                           │     \u001b[38;5;34m0\u001b[0m (unbuilt) │\n",
              "├──────────────────────────────────────┼─────────────────────────────┼─────────────────┤\n",
              "│ dense_1 (\u001b[38;5;33mDense\u001b[0m)                      │ ?                           │     \u001b[38;5;34m0\u001b[0m (unbuilt) │\n",
              "└──────────────────────────────────────┴─────────────────────────────┴─────────────────┘\n"
            ],
            "text/html": [
              "<pre style=\"white-space:pre;overflow-x:auto;line-height:normal;font-family:Menlo,'DejaVu Sans Mono',consolas,'Courier New',monospace\">┏━━━━━━━━━━━━━━━━━━━━━━━━━━━━━━━━━━━━━━┳━━━━━━━━━━━━━━━━━━━━━━━━━━━━━┳━━━━━━━━━━━━━━━━━┓\n",
              "┃<span style=\"font-weight: bold\"> Layer (type)                         </span>┃<span style=\"font-weight: bold\"> Output Shape                </span>┃<span style=\"font-weight: bold\">         Param # </span>┃\n",
              "┡━━━━━━━━━━━━━━━━━━━━━━━━━━━━━━━━━━━━━━╇━━━━━━━━━━━━━━━━━━━━━━━━━━━━━╇━━━━━━━━━━━━━━━━━┩\n",
              "│ embedding_1 (<span style=\"color: #0087ff; text-decoration-color: #0087ff\">Embedding</span>)              │ ?                           │      <span style=\"color: #00af00; text-decoration-color: #00af00\">14,895,900</span> │\n",
              "├──────────────────────────────────────┼─────────────────────────────┼─────────────────┤\n",
              "│ simple_rnn (<span style=\"color: #0087ff; text-decoration-color: #0087ff\">SimpleRNN</span>)               │ ?                           │     <span style=\"color: #00af00; text-decoration-color: #00af00\">0</span> (unbuilt) │\n",
              "├──────────────────────────────────────┼─────────────────────────────┼─────────────────┤\n",
              "│ dense_1 (<span style=\"color: #0087ff; text-decoration-color: #0087ff\">Dense</span>)                      │ ?                           │     <span style=\"color: #00af00; text-decoration-color: #00af00\">0</span> (unbuilt) │\n",
              "└──────────────────────────────────────┴─────────────────────────────┴─────────────────┘\n",
              "</pre>\n"
            ]
          },
          "metadata": {}
        },
        {
          "output_type": "display_data",
          "data": {
            "text/plain": [
              "\u001b[1m Total params: \u001b[0m\u001b[38;5;34m14,895,900\u001b[0m (56.82 MB)\n"
            ],
            "text/html": [
              "<pre style=\"white-space:pre;overflow-x:auto;line-height:normal;font-family:Menlo,'DejaVu Sans Mono',consolas,'Courier New',monospace\"><span style=\"font-weight: bold\"> Total params: </span><span style=\"color: #00af00; text-decoration-color: #00af00\">14,895,900</span> (56.82 MB)\n",
              "</pre>\n"
            ]
          },
          "metadata": {}
        },
        {
          "output_type": "display_data",
          "data": {
            "text/plain": [
              "\u001b[1m Trainable params: \u001b[0m\u001b[38;5;34m0\u001b[0m (0.00 B)\n"
            ],
            "text/html": [
              "<pre style=\"white-space:pre;overflow-x:auto;line-height:normal;font-family:Menlo,'DejaVu Sans Mono',consolas,'Courier New',monospace\"><span style=\"font-weight: bold\"> Trainable params: </span><span style=\"color: #00af00; text-decoration-color: #00af00\">0</span> (0.00 B)\n",
              "</pre>\n"
            ]
          },
          "metadata": {}
        },
        {
          "output_type": "display_data",
          "data": {
            "text/plain": [
              "\u001b[1m Non-trainable params: \u001b[0m\u001b[38;5;34m14,895,900\u001b[0m (56.82 MB)\n"
            ],
            "text/html": [
              "<pre style=\"white-space:pre;overflow-x:auto;line-height:normal;font-family:Menlo,'DejaVu Sans Mono',consolas,'Courier New',monospace\"><span style=\"font-weight: bold\"> Non-trainable params: </span><span style=\"color: #00af00; text-decoration-color: #00af00\">14,895,900</span> (56.82 MB)\n",
              "</pre>\n"
            ]
          },
          "metadata": {}
        },
        {
          "output_type": "stream",
          "name": "stdout",
          "text": [
            "None\n"
          ]
        }
      ]
    },
    {
      "cell_type": "code",
      "source": [
        "model.fit(train_indices,train_y,batch_size=32,epochs=5)"
      ],
      "metadata": {
        "colab": {
          "base_uri": "https://localhost:8080/"
        },
        "id": "P7zArnzWJ3Z1",
        "outputId": "db7ad115-cf1d-48a5-9975-d583922b70b8"
      },
      "execution_count": null,
      "outputs": [
        {
          "output_type": "stream",
          "name": "stdout",
          "text": [
            "Epoch 1/5\n",
            "\u001b[1m1547/1547\u001b[0m \u001b[32m━━━━━━━━━━━━━━━━━━━━\u001b[0m\u001b[37m\u001b[0m \u001b[1m13s\u001b[0m 7ms/step - accuracy: 0.5817 - loss: 0.6703\n",
            "Epoch 2/5\n",
            "\u001b[1m1547/1547\u001b[0m \u001b[32m━━━━━━━━━━━━━━━━━━━━\u001b[0m\u001b[37m\u001b[0m \u001b[1m19s\u001b[0m 6ms/step - accuracy: 0.6343 - loss: 0.6363\n",
            "Epoch 3/5\n",
            "\u001b[1m1547/1547\u001b[0m \u001b[32m━━━━━━━━━━━━━━━━━━━━\u001b[0m\u001b[37m\u001b[0m \u001b[1m9s\u001b[0m 6ms/step - accuracy: 0.6610 - loss: 0.6245\n",
            "Epoch 4/5\n",
            "\u001b[1m1547/1547\u001b[0m \u001b[32m━━━━━━━━━━━━━━━━━━━━\u001b[0m\u001b[37m\u001b[0m \u001b[1m9s\u001b[0m 6ms/step - accuracy: 0.5891 - loss: 0.6662\n",
            "Epoch 5/5\n",
            "\u001b[1m1547/1547\u001b[0m \u001b[32m━━━━━━━━━━━━━━━━━━━━\u001b[0m\u001b[37m\u001b[0m \u001b[1m10s\u001b[0m 6ms/step - accuracy: 0.5997 - loss: 0.6591\n"
          ]
        },
        {
          "output_type": "execute_result",
          "data": {
            "text/plain": [
              "<keras.src.callbacks.history.History at 0x7b558baa1210>"
            ]
          },
          "metadata": {},
          "execution_count": 33
        }
      ]
    },
    {
      "cell_type": "code",
      "source": [
        "# Final evaluation of the model\n",
        "scores = model.evaluate(test_indices, test_y, verbose=0)\n",
        "print(\"Accuracy: %.2f%%\" % (scores[1]*100))"
      ],
      "metadata": {
        "colab": {
          "base_uri": "https://localhost:8080/"
        },
        "id": "o5PxdA8VJ5ov",
        "outputId": "2acca52a-a748-4deb-ef47-b9f7853499ee"
      },
      "execution_count": null,
      "outputs": [
        {
          "output_type": "stream",
          "name": "stdout",
          "text": [
            "Accuracy: 64.20%\n"
          ]
        }
      ]
    },
    {
      "cell_type": "code",
      "source": [
        "scores"
      ],
      "metadata": {
        "colab": {
          "base_uri": "https://localhost:8080/"
        },
        "id": "qicIPAsoJ8fQ",
        "outputId": "60ed38af-5e44-4389-cea2-6ee6392bbdc2"
      },
      "execution_count": null,
      "outputs": [
        {
          "output_type": "execute_result",
          "data": {
            "text/plain": [
              "[0.6290221214294434, 0.6420000195503235]"
            ]
          },
          "metadata": {},
          "execution_count": 35
        }
      ]
    },
    {
      "cell_type": "code",
      "source": [
        "### Will the batch normalization work\n",
        "## Creating the model architecture\n",
        "model= Sequential()\n",
        "model.add(Embedding(input_dim=vocab,output_dim=100,input_length=max_length,weights=[embedding_matrix],trainable=False))\n",
        "model.add(SimpleRNN(32))\n",
        "model.add(BatchNormalization())\n",
        "model.add(Dense(1, activation='sigmoid'))\n",
        "model.compile(loss='binary_crossentropy', optimizer='adam', metrics=['accuracy'])\n",
        "print(model.summary())"
      ],
      "metadata": {
        "colab": {
          "base_uri": "https://localhost:8080/",
          "height": 302
        },
        "id": "J2QIirirJ-6v",
        "outputId": "1505de40-faf6-40f1-e946-4dd25651190e"
      },
      "execution_count": null,
      "outputs": [
        {
          "output_type": "display_data",
          "data": {
            "text/plain": [
              "\u001b[1mModel: \"sequential_2\"\u001b[0m\n"
            ],
            "text/html": [
              "<pre style=\"white-space:pre;overflow-x:auto;line-height:normal;font-family:Menlo,'DejaVu Sans Mono',consolas,'Courier New',monospace\"><span style=\"font-weight: bold\">Model: \"sequential_2\"</span>\n",
              "</pre>\n"
            ]
          },
          "metadata": {}
        },
        {
          "output_type": "display_data",
          "data": {
            "text/plain": [
              "┏━━━━━━━━━━━━━━━━━━━━━━━━━━━━━━━━━━━━━━┳━━━━━━━━━━━━━━━━━━━━━━━━━━━━━┳━━━━━━━━━━━━━━━━━┓\n",
              "┃\u001b[1m \u001b[0m\u001b[1mLayer (type)                        \u001b[0m\u001b[1m \u001b[0m┃\u001b[1m \u001b[0m\u001b[1mOutput Shape               \u001b[0m\u001b[1m \u001b[0m┃\u001b[1m \u001b[0m\u001b[1m        Param #\u001b[0m\u001b[1m \u001b[0m┃\n",
              "┡━━━━━━━━━━━━━━━━━━━━━━━━━━━━━━━━━━━━━━╇━━━━━━━━━━━━━━━━━━━━━━━━━━━━━╇━━━━━━━━━━━━━━━━━┩\n",
              "│ embedding_2 (\u001b[38;5;33mEmbedding\u001b[0m)              │ ?                           │      \u001b[38;5;34m14,895,900\u001b[0m │\n",
              "├──────────────────────────────────────┼─────────────────────────────┼─────────────────┤\n",
              "│ simple_rnn_1 (\u001b[38;5;33mSimpleRNN\u001b[0m)             │ ?                           │     \u001b[38;5;34m0\u001b[0m (unbuilt) │\n",
              "├──────────────────────────────────────┼─────────────────────────────┼─────────────────┤\n",
              "│ batch_normalization                  │ ?                           │     \u001b[38;5;34m0\u001b[0m (unbuilt) │\n",
              "│ (\u001b[38;5;33mBatchNormalization\u001b[0m)                 │                             │                 │\n",
              "├──────────────────────────────────────┼─────────────────────────────┼─────────────────┤\n",
              "│ dense_2 (\u001b[38;5;33mDense\u001b[0m)                      │ ?                           │     \u001b[38;5;34m0\u001b[0m (unbuilt) │\n",
              "└──────────────────────────────────────┴─────────────────────────────┴─────────────────┘\n"
            ],
            "text/html": [
              "<pre style=\"white-space:pre;overflow-x:auto;line-height:normal;font-family:Menlo,'DejaVu Sans Mono',consolas,'Courier New',monospace\">┏━━━━━━━━━━━━━━━━━━━━━━━━━━━━━━━━━━━━━━┳━━━━━━━━━━━━━━━━━━━━━━━━━━━━━┳━━━━━━━━━━━━━━━━━┓\n",
              "┃<span style=\"font-weight: bold\"> Layer (type)                         </span>┃<span style=\"font-weight: bold\"> Output Shape                </span>┃<span style=\"font-weight: bold\">         Param # </span>┃\n",
              "┡━━━━━━━━━━━━━━━━━━━━━━━━━━━━━━━━━━━━━━╇━━━━━━━━━━━━━━━━━━━━━━━━━━━━━╇━━━━━━━━━━━━━━━━━┩\n",
              "│ embedding_2 (<span style=\"color: #0087ff; text-decoration-color: #0087ff\">Embedding</span>)              │ ?                           │      <span style=\"color: #00af00; text-decoration-color: #00af00\">14,895,900</span> │\n",
              "├──────────────────────────────────────┼─────────────────────────────┼─────────────────┤\n",
              "│ simple_rnn_1 (<span style=\"color: #0087ff; text-decoration-color: #0087ff\">SimpleRNN</span>)             │ ?                           │     <span style=\"color: #00af00; text-decoration-color: #00af00\">0</span> (unbuilt) │\n",
              "├──────────────────────────────────────┼─────────────────────────────┼─────────────────┤\n",
              "│ batch_normalization                  │ ?                           │     <span style=\"color: #00af00; text-decoration-color: #00af00\">0</span> (unbuilt) │\n",
              "│ (<span style=\"color: #0087ff; text-decoration-color: #0087ff\">BatchNormalization</span>)                 │                             │                 │\n",
              "├──────────────────────────────────────┼─────────────────────────────┼─────────────────┤\n",
              "│ dense_2 (<span style=\"color: #0087ff; text-decoration-color: #0087ff\">Dense</span>)                      │ ?                           │     <span style=\"color: #00af00; text-decoration-color: #00af00\">0</span> (unbuilt) │\n",
              "└──────────────────────────────────────┴─────────────────────────────┴─────────────────┘\n",
              "</pre>\n"
            ]
          },
          "metadata": {}
        },
        {
          "output_type": "display_data",
          "data": {
            "text/plain": [
              "\u001b[1m Total params: \u001b[0m\u001b[38;5;34m14,895,900\u001b[0m (56.82 MB)\n"
            ],
            "text/html": [
              "<pre style=\"white-space:pre;overflow-x:auto;line-height:normal;font-family:Menlo,'DejaVu Sans Mono',consolas,'Courier New',monospace\"><span style=\"font-weight: bold\"> Total params: </span><span style=\"color: #00af00; text-decoration-color: #00af00\">14,895,900</span> (56.82 MB)\n",
              "</pre>\n"
            ]
          },
          "metadata": {}
        },
        {
          "output_type": "display_data",
          "data": {
            "text/plain": [
              "\u001b[1m Trainable params: \u001b[0m\u001b[38;5;34m0\u001b[0m (0.00 B)\n"
            ],
            "text/html": [
              "<pre style=\"white-space:pre;overflow-x:auto;line-height:normal;font-family:Menlo,'DejaVu Sans Mono',consolas,'Courier New',monospace\"><span style=\"font-weight: bold\"> Trainable params: </span><span style=\"color: #00af00; text-decoration-color: #00af00\">0</span> (0.00 B)\n",
              "</pre>\n"
            ]
          },
          "metadata": {}
        },
        {
          "output_type": "display_data",
          "data": {
            "text/plain": [
              "\u001b[1m Non-trainable params: \u001b[0m\u001b[38;5;34m14,895,900\u001b[0m (56.82 MB)\n"
            ],
            "text/html": [
              "<pre style=\"white-space:pre;overflow-x:auto;line-height:normal;font-family:Menlo,'DejaVu Sans Mono',consolas,'Courier New',monospace\"><span style=\"font-weight: bold\"> Non-trainable params: </span><span style=\"color: #00af00; text-decoration-color: #00af00\">14,895,900</span> (56.82 MB)\n",
              "</pre>\n"
            ]
          },
          "metadata": {}
        },
        {
          "output_type": "stream",
          "name": "stdout",
          "text": [
            "None\n"
          ]
        }
      ]
    },
    {
      "cell_type": "code",
      "source": [
        "model.fit(train_indices,train_y,batch_size=32,epochs=10)\n",
        "# Final evaluation of the model\n",
        "scores = model.evaluate(test_indices, test_y, verbose=0)\n",
        "print(\"Accuracy: %.2f%%\" % (scores[1]*100))"
      ],
      "metadata": {
        "colab": {
          "base_uri": "https://localhost:8080/"
        },
        "id": "DpB1c2zEKBdF",
        "outputId": "3ee1ab5f-5a28-4612-8c6b-815a770b1ab9"
      },
      "execution_count": null,
      "outputs": [
        {
          "output_type": "stream",
          "name": "stdout",
          "text": [
            "Epoch 1/10\n",
            "\u001b[1m1547/1547\u001b[0m \u001b[32m━━━━━━━━━━━━━━━━━━━━\u001b[0m\u001b[37m\u001b[0m \u001b[1m13s\u001b[0m 7ms/step - accuracy: 0.5776 - loss: 0.7001\n",
            "Epoch 2/10\n",
            "\u001b[1m1547/1547\u001b[0m \u001b[32m━━━━━━━━━━━━━━━━━━━━\u001b[0m\u001b[37m\u001b[0m \u001b[1m18s\u001b[0m 6ms/step - accuracy: 0.5599 - loss: 0.6774\n",
            "Epoch 3/10\n",
            "\u001b[1m1547/1547\u001b[0m \u001b[32m━━━━━━━━━━━━━━━━━━━━\u001b[0m\u001b[37m\u001b[0m \u001b[1m10s\u001b[0m 6ms/step - accuracy: 0.5738 - loss: 0.6680\n",
            "Epoch 4/10\n",
            "\u001b[1m1547/1547\u001b[0m \u001b[32m━━━━━━━━━━━━━━━━━━━━\u001b[0m\u001b[37m\u001b[0m \u001b[1m10s\u001b[0m 6ms/step - accuracy: 0.5849 - loss: 0.6630\n",
            "Epoch 5/10\n",
            "\u001b[1m1547/1547\u001b[0m \u001b[32m━━━━━━━━━━━━━━━━━━━━\u001b[0m\u001b[37m\u001b[0m \u001b[1m9s\u001b[0m 6ms/step - accuracy: 0.5987 - loss: 0.6550\n",
            "Epoch 6/10\n",
            "\u001b[1m1547/1547\u001b[0m \u001b[32m━━━━━━━━━━━━━━━━━━━━\u001b[0m\u001b[37m\u001b[0m \u001b[1m9s\u001b[0m 6ms/step - accuracy: 0.6334 - loss: 0.6349\n",
            "Epoch 7/10\n",
            "\u001b[1m1547/1547\u001b[0m \u001b[32m━━━━━━━━━━━━━━━━━━━━\u001b[0m\u001b[37m\u001b[0m \u001b[1m9s\u001b[0m 6ms/step - accuracy: 0.6064 - loss: 0.6485\n",
            "Epoch 8/10\n",
            "\u001b[1m1547/1547\u001b[0m \u001b[32m━━━━━━━━━━━━━━━━━━━━\u001b[0m\u001b[37m\u001b[0m \u001b[1m9s\u001b[0m 6ms/step - accuracy: 0.6175 - loss: 0.6437\n",
            "Epoch 9/10\n",
            "\u001b[1m1547/1547\u001b[0m \u001b[32m━━━━━━━━━━━━━━━━━━━━\u001b[0m\u001b[37m\u001b[0m \u001b[1m9s\u001b[0m 6ms/step - accuracy: 0.6370 - loss: 0.6286\n",
            "Epoch 10/10\n",
            "\u001b[1m1547/1547\u001b[0m \u001b[32m━━━━━━━━━━━━━━━━━━━━\u001b[0m\u001b[37m\u001b[0m \u001b[1m10s\u001b[0m 6ms/step - accuracy: 0.6129 - loss: 0.6479\n",
            "Accuracy: 59.60%\n"
          ]
        }
      ]
    },
    {
      "cell_type": "code",
      "source": [
        "### Execute the same with Keras Embedding\n",
        "model= Sequential()\n",
        "model.add(Embedding(input_dim=vocab,output_dim=100,input_length=max_length))\n",
        "model.add(SimpleRNN(32))\n",
        "model.add(Dense(1, activation='sigmoid'))\n",
        "model.compile(loss='binary_crossentropy', optimizer='adam', metrics=['accuracy'])\n",
        "print(model.summary())"
      ],
      "metadata": {
        "colab": {
          "base_uri": "https://localhost:8080/",
          "height": 252
        },
        "id": "gcAEEU4YKENh",
        "outputId": "64437246-0ec4-4b0e-991a-595baef5a134"
      },
      "execution_count": null,
      "outputs": [
        {
          "output_type": "display_data",
          "data": {
            "text/plain": [
              "\u001b[1mModel: \"sequential_3\"\u001b[0m\n"
            ],
            "text/html": [
              "<pre style=\"white-space:pre;overflow-x:auto;line-height:normal;font-family:Menlo,'DejaVu Sans Mono',consolas,'Courier New',monospace\"><span style=\"font-weight: bold\">Model: \"sequential_3\"</span>\n",
              "</pre>\n"
            ]
          },
          "metadata": {}
        },
        {
          "output_type": "display_data",
          "data": {
            "text/plain": [
              "┏━━━━━━━━━━━━━━━━━━━━━━━━━━━━━━━━━━━━━━┳━━━━━━━━━━━━━━━━━━━━━━━━━━━━━┳━━━━━━━━━━━━━━━━━┓\n",
              "┃\u001b[1m \u001b[0m\u001b[1mLayer (type)                        \u001b[0m\u001b[1m \u001b[0m┃\u001b[1m \u001b[0m\u001b[1mOutput Shape               \u001b[0m\u001b[1m \u001b[0m┃\u001b[1m \u001b[0m\u001b[1m        Param #\u001b[0m\u001b[1m \u001b[0m┃\n",
              "┡━━━━━━━━━━━━━━━━━━━━━━━━━━━━━━━━━━━━━━╇━━━━━━━━━━━━━━━━━━━━━━━━━━━━━╇━━━━━━━━━━━━━━━━━┩\n",
              "│ embedding_3 (\u001b[38;5;33mEmbedding\u001b[0m)              │ ?                           │     \u001b[38;5;34m0\u001b[0m (unbuilt) │\n",
              "├──────────────────────────────────────┼─────────────────────────────┼─────────────────┤\n",
              "│ simple_rnn_2 (\u001b[38;5;33mSimpleRNN\u001b[0m)             │ ?                           │     \u001b[38;5;34m0\u001b[0m (unbuilt) │\n",
              "├──────────────────────────────────────┼─────────────────────────────┼─────────────────┤\n",
              "│ dense_3 (\u001b[38;5;33mDense\u001b[0m)                      │ ?                           │     \u001b[38;5;34m0\u001b[0m (unbuilt) │\n",
              "└──────────────────────────────────────┴─────────────────────────────┴─────────────────┘\n"
            ],
            "text/html": [
              "<pre style=\"white-space:pre;overflow-x:auto;line-height:normal;font-family:Menlo,'DejaVu Sans Mono',consolas,'Courier New',monospace\">┏━━━━━━━━━━━━━━━━━━━━━━━━━━━━━━━━━━━━━━┳━━━━━━━━━━━━━━━━━━━━━━━━━━━━━┳━━━━━━━━━━━━━━━━━┓\n",
              "┃<span style=\"font-weight: bold\"> Layer (type)                         </span>┃<span style=\"font-weight: bold\"> Output Shape                </span>┃<span style=\"font-weight: bold\">         Param # </span>┃\n",
              "┡━━━━━━━━━━━━━━━━━━━━━━━━━━━━━━━━━━━━━━╇━━━━━━━━━━━━━━━━━━━━━━━━━━━━━╇━━━━━━━━━━━━━━━━━┩\n",
              "│ embedding_3 (<span style=\"color: #0087ff; text-decoration-color: #0087ff\">Embedding</span>)              │ ?                           │     <span style=\"color: #00af00; text-decoration-color: #00af00\">0</span> (unbuilt) │\n",
              "├──────────────────────────────────────┼─────────────────────────────┼─────────────────┤\n",
              "│ simple_rnn_2 (<span style=\"color: #0087ff; text-decoration-color: #0087ff\">SimpleRNN</span>)             │ ?                           │     <span style=\"color: #00af00; text-decoration-color: #00af00\">0</span> (unbuilt) │\n",
              "├──────────────────────────────────────┼─────────────────────────────┼─────────────────┤\n",
              "│ dense_3 (<span style=\"color: #0087ff; text-decoration-color: #0087ff\">Dense</span>)                      │ ?                           │     <span style=\"color: #00af00; text-decoration-color: #00af00\">0</span> (unbuilt) │\n",
              "└──────────────────────────────────────┴─────────────────────────────┴─────────────────┘\n",
              "</pre>\n"
            ]
          },
          "metadata": {}
        },
        {
          "output_type": "display_data",
          "data": {
            "text/plain": [
              "\u001b[1m Total params: \u001b[0m\u001b[38;5;34m0\u001b[0m (0.00 B)\n"
            ],
            "text/html": [
              "<pre style=\"white-space:pre;overflow-x:auto;line-height:normal;font-family:Menlo,'DejaVu Sans Mono',consolas,'Courier New',monospace\"><span style=\"font-weight: bold\"> Total params: </span><span style=\"color: #00af00; text-decoration-color: #00af00\">0</span> (0.00 B)\n",
              "</pre>\n"
            ]
          },
          "metadata": {}
        },
        {
          "output_type": "display_data",
          "data": {
            "text/plain": [
              "\u001b[1m Trainable params: \u001b[0m\u001b[38;5;34m0\u001b[0m (0.00 B)\n"
            ],
            "text/html": [
              "<pre style=\"white-space:pre;overflow-x:auto;line-height:normal;font-family:Menlo,'DejaVu Sans Mono',consolas,'Courier New',monospace\"><span style=\"font-weight: bold\"> Trainable params: </span><span style=\"color: #00af00; text-decoration-color: #00af00\">0</span> (0.00 B)\n",
              "</pre>\n"
            ]
          },
          "metadata": {}
        },
        {
          "output_type": "display_data",
          "data": {
            "text/plain": [
              "\u001b[1m Non-trainable params: \u001b[0m\u001b[38;5;34m0\u001b[0m (0.00 B)\n"
            ],
            "text/html": [
              "<pre style=\"white-space:pre;overflow-x:auto;line-height:normal;font-family:Menlo,'DejaVu Sans Mono',consolas,'Courier New',monospace\"><span style=\"font-weight: bold\"> Non-trainable params: </span><span style=\"color: #00af00; text-decoration-color: #00af00\">0</span> (0.00 B)\n",
              "</pre>\n"
            ]
          },
          "metadata": {}
        },
        {
          "output_type": "stream",
          "name": "stdout",
          "text": [
            "None\n"
          ]
        }
      ]
    },
    {
      "cell_type": "code",
      "source": [
        "model.fit(train_indices,train_y,batch_size=32,epochs=3)\n",
        "# Final evaluation of the model\n",
        "scores = model.evaluate(test_indices, test_y, verbose=0)\n",
        "print(\"Accuracy: %.2f%%\" % (scores[1]*100))"
      ],
      "metadata": {
        "colab": {
          "base_uri": "https://localhost:8080/"
        },
        "id": "veNEOUxWKuxU",
        "outputId": "e6238459-3d7d-4506-dbcc-e3d58f1ed915"
      },
      "execution_count": null,
      "outputs": [
        {
          "output_type": "stream",
          "name": "stdout",
          "text": [
            "Epoch 1/3\n",
            "\u001b[1m1547/1547\u001b[0m \u001b[32m━━━━━━━━━━━━━━━━━━━━\u001b[0m\u001b[37m\u001b[0m \u001b[1m17s\u001b[0m 9ms/step - accuracy: 0.6746 - loss: 0.5859\n",
            "Epoch 2/3\n",
            "\u001b[1m1547/1547\u001b[0m \u001b[32m━━━━━━━━━━━━━━━━━━━━\u001b[0m\u001b[37m\u001b[0m \u001b[1m19s\u001b[0m 9ms/step - accuracy: 0.8572 - loss: 0.3441\n",
            "Epoch 3/3\n",
            "\u001b[1m1547/1547\u001b[0m \u001b[32m━━━━━━━━━━━━━━━━━━━━\u001b[0m\u001b[37m\u001b[0m \u001b[1m21s\u001b[0m 9ms/step - accuracy: 0.8853 - loss: 0.2833\n",
            "Accuracy: 82.20%\n"
          ]
        }
      ]
    },
    {
      "cell_type": "code",
      "source": [
        "### Execute the same with Keras Embedding\n",
        "model= Sequential()\n",
        "model.add(Embedding(input_dim=vocab,output_dim=100,input_length=max_length))\n",
        "model.add(LSTM(32))\n",
        "model.add(Dense(1, activation='sigmoid'))\n",
        "model.compile(loss='binary_crossentropy', optimizer='adam', metrics=['accuracy'])\n",
        "print(model.summary())"
      ],
      "metadata": {
        "colab": {
          "base_uri": "https://localhost:8080/",
          "height": 252
        },
        "id": "AJ40IHsBKx9B",
        "outputId": "94f857a4-597d-4810-b32a-5b7aaeff68a6"
      },
      "execution_count": null,
      "outputs": [
        {
          "output_type": "display_data",
          "data": {
            "text/plain": [
              "\u001b[1mModel: \"sequential_4\"\u001b[0m\n"
            ],
            "text/html": [
              "<pre style=\"white-space:pre;overflow-x:auto;line-height:normal;font-family:Menlo,'DejaVu Sans Mono',consolas,'Courier New',monospace\"><span style=\"font-weight: bold\">Model: \"sequential_4\"</span>\n",
              "</pre>\n"
            ]
          },
          "metadata": {}
        },
        {
          "output_type": "display_data",
          "data": {
            "text/plain": [
              "┏━━━━━━━━━━━━━━━━━━━━━━━━━━━━━━━━━━━━━━┳━━━━━━━━━━━━━━━━━━━━━━━━━━━━━┳━━━━━━━━━━━━━━━━━┓\n",
              "┃\u001b[1m \u001b[0m\u001b[1mLayer (type)                        \u001b[0m\u001b[1m \u001b[0m┃\u001b[1m \u001b[0m\u001b[1mOutput Shape               \u001b[0m\u001b[1m \u001b[0m┃\u001b[1m \u001b[0m\u001b[1m        Param #\u001b[0m\u001b[1m \u001b[0m┃\n",
              "┡━━━━━━━━━━━━━━━━━━━━━━━━━━━━━━━━━━━━━━╇━━━━━━━━━━━━━━━━━━━━━━━━━━━━━╇━━━━━━━━━━━━━━━━━┩\n",
              "│ embedding_4 (\u001b[38;5;33mEmbedding\u001b[0m)              │ ?                           │     \u001b[38;5;34m0\u001b[0m (unbuilt) │\n",
              "├──────────────────────────────────────┼─────────────────────────────┼─────────────────┤\n",
              "│ lstm_1 (\u001b[38;5;33mLSTM\u001b[0m)                        │ ?                           │     \u001b[38;5;34m0\u001b[0m (unbuilt) │\n",
              "├──────────────────────────────────────┼─────────────────────────────┼─────────────────┤\n",
              "│ dense_4 (\u001b[38;5;33mDense\u001b[0m)                      │ ?                           │     \u001b[38;5;34m0\u001b[0m (unbuilt) │\n",
              "└──────────────────────────────────────┴─────────────────────────────┴─────────────────┘\n"
            ],
            "text/html": [
              "<pre style=\"white-space:pre;overflow-x:auto;line-height:normal;font-family:Menlo,'DejaVu Sans Mono',consolas,'Courier New',monospace\">┏━━━━━━━━━━━━━━━━━━━━━━━━━━━━━━━━━━━━━━┳━━━━━━━━━━━━━━━━━━━━━━━━━━━━━┳━━━━━━━━━━━━━━━━━┓\n",
              "┃<span style=\"font-weight: bold\"> Layer (type)                         </span>┃<span style=\"font-weight: bold\"> Output Shape                </span>┃<span style=\"font-weight: bold\">         Param # </span>┃\n",
              "┡━━━━━━━━━━━━━━━━━━━━━━━━━━━━━━━━━━━━━━╇━━━━━━━━━━━━━━━━━━━━━━━━━━━━━╇━━━━━━━━━━━━━━━━━┩\n",
              "│ embedding_4 (<span style=\"color: #0087ff; text-decoration-color: #0087ff\">Embedding</span>)              │ ?                           │     <span style=\"color: #00af00; text-decoration-color: #00af00\">0</span> (unbuilt) │\n",
              "├──────────────────────────────────────┼─────────────────────────────┼─────────────────┤\n",
              "│ lstm_1 (<span style=\"color: #0087ff; text-decoration-color: #0087ff\">LSTM</span>)                        │ ?                           │     <span style=\"color: #00af00; text-decoration-color: #00af00\">0</span> (unbuilt) │\n",
              "├──────────────────────────────────────┼─────────────────────────────┼─────────────────┤\n",
              "│ dense_4 (<span style=\"color: #0087ff; text-decoration-color: #0087ff\">Dense</span>)                      │ ?                           │     <span style=\"color: #00af00; text-decoration-color: #00af00\">0</span> (unbuilt) │\n",
              "└──────────────────────────────────────┴─────────────────────────────┴─────────────────┘\n",
              "</pre>\n"
            ]
          },
          "metadata": {}
        },
        {
          "output_type": "display_data",
          "data": {
            "text/plain": [
              "\u001b[1m Total params: \u001b[0m\u001b[38;5;34m0\u001b[0m (0.00 B)\n"
            ],
            "text/html": [
              "<pre style=\"white-space:pre;overflow-x:auto;line-height:normal;font-family:Menlo,'DejaVu Sans Mono',consolas,'Courier New',monospace\"><span style=\"font-weight: bold\"> Total params: </span><span style=\"color: #00af00; text-decoration-color: #00af00\">0</span> (0.00 B)\n",
              "</pre>\n"
            ]
          },
          "metadata": {}
        },
        {
          "output_type": "display_data",
          "data": {
            "text/plain": [
              "\u001b[1m Trainable params: \u001b[0m\u001b[38;5;34m0\u001b[0m (0.00 B)\n"
            ],
            "text/html": [
              "<pre style=\"white-space:pre;overflow-x:auto;line-height:normal;font-family:Menlo,'DejaVu Sans Mono',consolas,'Courier New',monospace\"><span style=\"font-weight: bold\"> Trainable params: </span><span style=\"color: #00af00; text-decoration-color: #00af00\">0</span> (0.00 B)\n",
              "</pre>\n"
            ]
          },
          "metadata": {}
        },
        {
          "output_type": "display_data",
          "data": {
            "text/plain": [
              "\u001b[1m Non-trainable params: \u001b[0m\u001b[38;5;34m0\u001b[0m (0.00 B)\n"
            ],
            "text/html": [
              "<pre style=\"white-space:pre;overflow-x:auto;line-height:normal;font-family:Menlo,'DejaVu Sans Mono',consolas,'Courier New',monospace\"><span style=\"font-weight: bold\"> Non-trainable params: </span><span style=\"color: #00af00; text-decoration-color: #00af00\">0</span> (0.00 B)\n",
              "</pre>\n"
            ]
          },
          "metadata": {}
        },
        {
          "output_type": "stream",
          "name": "stdout",
          "text": [
            "None\n"
          ]
        }
      ]
    },
    {
      "cell_type": "code",
      "source": [
        "model.fit(train_indices,train_y,batch_size=32,epochs=5)\n",
        "# Final evaluation of the model\n",
        "scores = model.evaluate(test_indices, test_y, verbose=0)\n",
        "print(\"Accuracy: %.2f%%\" % (scores[1]*100))"
      ],
      "metadata": {
        "colab": {
          "base_uri": "https://localhost:8080/"
        },
        "id": "shbbapneK1pT",
        "outputId": "bb5fa609-2030-441f-a105-8c2aec526969"
      },
      "execution_count": null,
      "outputs": [
        {
          "output_type": "stream",
          "name": "stdout",
          "text": [
            "Epoch 1/5\n",
            "\u001b[1m1547/1547\u001b[0m \u001b[32m━━━━━━━━━━━━━━━━━━━━\u001b[0m\u001b[37m\u001b[0m \u001b[1m24s\u001b[0m 14ms/step - accuracy: 0.7708 - loss: 0.4560\n",
            "Epoch 2/5\n",
            "\u001b[1m1547/1547\u001b[0m \u001b[32m━━━━━━━━━━━━━━━━━━━━\u001b[0m\u001b[37m\u001b[0m \u001b[1m41s\u001b[0m 14ms/step - accuracy: 0.8837 - loss: 0.2802\n",
            "Epoch 3/5\n",
            "\u001b[1m1547/1547\u001b[0m \u001b[32m━━━━━━━━━━━━━━━━━━━━\u001b[0m\u001b[37m\u001b[0m \u001b[1m42s\u001b[0m 14ms/step - accuracy: 0.9086 - loss: 0.2252\n",
            "Epoch 4/5\n",
            "\u001b[1m1547/1547\u001b[0m \u001b[32m━━━━━━━━━━━━━━━━━━━━\u001b[0m\u001b[37m\u001b[0m \u001b[1m40s\u001b[0m 14ms/step - accuracy: 0.9300 - loss: 0.1779\n",
            "Epoch 5/5\n",
            "\u001b[1m1547/1547\u001b[0m \u001b[32m━━━━━━━━━━━━━━━━━━━━\u001b[0m\u001b[37m\u001b[0m \u001b[1m41s\u001b[0m 14ms/step - accuracy: 0.9457 - loss: 0.1434\n",
            "Accuracy: 84.60%\n"
          ]
        }
      ]
    }
  ]
}