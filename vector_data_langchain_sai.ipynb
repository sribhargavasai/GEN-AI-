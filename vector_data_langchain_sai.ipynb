{
  "nbformat": 4,
  "nbformat_minor": 0,
  "metadata": {
    "colab": {
      "provenance": []
    },
    "kernelspec": {
      "name": "python3",
      "display_name": "Python 3"
    },
    "language_info": {
      "name": "python"
    }
  },
  "cells": [
    {
      "cell_type": "code",
      "execution_count": null,
      "metadata": {
        "id": "F5hy5KY8nmWY"
      },
      "outputs": [],
      "source": [
        "pip install langchain langchain-community pdfplumber pymupdf faiss-cpu sentence-transformers"
      ]
    },
    {
      "cell_type": "code",
      "source": [
        "import os\n",
        "import fitz  # PyMuPDF for PDF parsing\n",
        "import pdfplumber\n",
        "from langchain_community.embeddings import HuggingFaceEmbeddings\n",
        "from langchain.vectorstores import FAISS\n",
        "from langchain.text_splitter import RecursiveCharacterTextSplitter"
      ],
      "metadata": {
        "id": "j2NADMSWoZ1c"
      },
      "execution_count": null,
      "outputs": []
    },
    {
      "cell_type": "code",
      "source": [
        "# Function to extract text from PDF\n",
        "def extract_text_from_pdf(pdf_path):\n",
        "    text = \"\"\n",
        "    try:\n",
        "        # Using PyMuPDF (fitz)\n",
        "        with fitz.open(pdf_path) as doc:\n",
        "            for page in doc:\n",
        "                text += page.get_text(\"text\") + \"\\n\"\n",
        "    except Exception as e:\n",
        "        print(\"Error with PyMuPDF, trying pdfplumber:\", e)\n",
        "        try:\n",
        "            # Using pdfplumber as an alternative\n",
        "            with pdfplumber.open(pdf_path) as pdf:\n",
        "                text = \"\\n\".join(page.extract_text() for page in pdf.pages if page.extract_text())\n",
        "        except Exception as e:\n",
        "            print(\"Error extracting text from PDF:\", e)\n",
        "    return text"
      ],
      "metadata": {
        "id": "c6AKrmEUp7Dh"
      },
      "execution_count": null,
      "outputs": []
    },
    {
      "cell_type": "code",
      "source": [
        "# Function to store text in FAISS vector database\n",
        "def store_in_vector_db(text):\n",
        "    # Split text into smaller chunks\n",
        "    text_splitter = RecursiveCharacterTextSplitter(chunk_size=500, chunk_overlap=50)\n",
        "    texts = text_splitter.split_text(text)\n",
        "\n",
        "    # Load embeddings model\n",
        "    embedding_model = HuggingFaceEmbeddings(model_name=\"sentence-transformers/all-MiniLM-L6-v2\")\n",
        "\n",
        "    # Store text in FAISS vector store\n",
        "    vector_store = FAISS.from_texts(texts, embedding_model)\n",
        "\n",
        "    # Save FAISS index for later use\n",
        "    vector_store.save_local(\"faiss_index\")\n",
        "    print(\"Vector database saved!\")\n"
      ],
      "metadata": {
        "id": "lBWUyxZSqPHq"
      },
      "execution_count": null,
      "outputs": []
    },
    {
      "cell_type": "code",
      "source": [
        "# Main function\n",
        "def main():\n",
        "    pdf_path = \"/content/ncert maths.pdf\"\n",
        "\n",
        "    if not os.path.exists(pdf_path):\n",
        "        print(\"File not found!\")\n",
        "        return\n",
        "\n",
        "    print(\"Extracting text from PDF...\")\n",
        "    text = extract_text_from_pdf(pdf_path)\n",
        "\n",
        "    if text:\n",
        "        print(\"Text extracted successfully!\")\n",
        "        print(\"Storing in vector database...\")\n",
        "        store_in_vector_db(text)\n",
        "    else:\n",
        "        print(\"Failed to extract text.\")\n",
        "\n",
        "if __name__ == \"__main__\":\n",
        "    main()\n"
      ],
      "metadata": {
        "id": "3S9wq2bkqVUd"
      },
      "execution_count": null,
      "outputs": []
    },
    {
      "cell_type": "code",
      "source": [
        "from langchain.vectorstores import FAISS\n",
        "from langchain_community.embeddings import HuggingFaceEmbeddings\n",
        "\n",
        "# Load FAISS index with safe deserialization\n",
        "vector_store = FAISS.load_local(\n",
        "    \"faiss_index\",\n",
        "    HuggingFaceEmbeddings(model_name=\"sentence-transformers/all-MiniLM-L6-v2\"),\n",
        "    allow_dangerous_deserialization=True  # Add this line\n",
        ")\n",
        "\n",
        "# Test query\n",
        "query = \"what are types of relations?\"\n",
        "results = vector_store.similarity_search(query, k=3)\n",
        "print(results)"
      ],
      "metadata": {
        "colab": {
          "base_uri": "https://localhost:8080/"
        },
        "id": "kz6cG4cWq1zM",
        "outputId": "b6cdf39f-0528-4f69-823b-b2bbd3f5137b"
      },
      "execution_count": null,
      "outputs": [
        {
          "output_type": "stream",
          "name": "stdout",
          "text": [
            "[Document(id='0fa0d73b-313a-4147-9dbe-6d744b549f1b', metadata={}, page_content='and their graphs. The concept of the term ‘relation’ in\\nmathematics has been drawn from the meaning of relation\\nin English language, according to which two objects or\\nquantities are related if there is a recognisable connection\\nor link between the two objects or quantities. Let  A be\\nthe set of students of Class XII of a school and B be the\\nset of students of Class XI of the same school. Then some\\nof the examples of relations from A to B are\\n(i)\\n{(a, b) ∈A × B: a is brother of b},\\n(ii)'), Document(id='cca1d164-796f-47f2-b869-4f4a73d3d6e4', metadata={}, page_content='of A × B.\\nIf (a, b) ∈ R, we say that a is related to b under the relation R and we write as\\na R b. In general, (a, b) ∈ R, we do not bother whether there is a recognisable\\nconnection or link between a and b. As seen in Class XI, functions are special kind of\\nrelations.\\nIn this chapter, we will study different types of relations and functions, composition\\nof functions, invertible functions and binary operations.\\nChapter 1\\nRELATIONS AND FUNCTIONS\\nLejeune Dirichlet\\n (1805-1859)\\nReprint 2024-25'), Document(id='c6bf4c0a-96e8-49dd-befa-c2c06a0ffe50', metadata={}, page_content='MATHEMATICS\\n2\\n1.2  Types of Relations\\nIn this section, we would like to study different types of relations. We know that a\\nrelation in a set A is a subset of A × A. Thus, the empty set φ and A × A are two\\nextreme relations. For illustration, consider a relation R in the set A = {1, 2, 3, 4} given by\\nR = {(a, b): a – b = 10}. This is the empty set, as no pair (a, b) satisfies the condition\\na – b = 10. Similarly, R′ = {(a, b) : | a – b | ≥ 0} is the whole set A × A, as all pairs')]\n"
          ]
        }
      ]
    }
  ]
}